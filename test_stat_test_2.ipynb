{
 "cells": [
  {
   "cell_type": "code",
   "execution_count": 690,
   "id": "automatic-donor",
   "metadata": {},
   "outputs": [],
   "source": [
    "from importlib import reload\n",
    "import numpy as np\n",
    "from numpy import transpose, trace, multiply, power, dot\n",
    "from numpy.linalg import multi_dot, matrix_power, norm\n",
    "import scipy.stats as ss\n",
    "from scipy.special import comb\n",
    "from sklearn.cluster import KMeans\n",
    "import math\n",
    "import pandas as pd\n",
    "import itertools\n",
    "import time\n",
    "from tqdm import tqdm\n",
    "import seaborn as sns\n",
    "sns.set()\n",
    "import matplotlib.pyplot as plt\n",
    "import pickle\n",
    "from TracyWidom import TracyWidom\n",
    "import data_gen as dg\n",
    "import stat_test as st\n",
    "import visualizations as viz"
   ]
  },
  {
   "cell_type": "code",
   "execution_count": 691,
   "id": "vietnamese-oxide",
   "metadata": {},
   "outputs": [
    {
     "data": {
      "text/plain": [
       "<module 'visualizations' from '/Users/louiscam/Dropbox (MIT)/SBMtesting/Simulations-Python/visualizations.py'>"
      ]
     },
     "execution_count": 691,
     "metadata": {},
     "output_type": "execute_result"
    }
   ],
   "source": [
    "# Reload modules in case of modifications\n",
    "reload(dg)\n",
    "reload(st)\n",
    "reload(viz)"
   ]
  },
  {
   "cell_type": "markdown",
   "id": "69c29ff2",
   "metadata": {},
   "source": [
    "# Setting, parameters and data"
   ]
  },
  {
   "cell_type": "code",
   "execution_count": 598,
   "id": "75af27d3",
   "metadata": {},
   "outputs": [],
   "source": [
    "# Test parameters\n",
    "level = 0.05"
   ]
  },
  {
   "cell_type": "code",
   "execution_count": 599,
   "id": "67207866",
   "metadata": {},
   "outputs": [],
   "source": [
    "# Simulation parameters\n",
    "N_rep = 100"
   ]
  },
  {
   "cell_type": "code",
   "execution_count": 581,
   "id": "88044cd6",
   "metadata": {},
   "outputs": [],
   "source": [
    "# Model parameters for 2-community SBM\n",
    "n = 500\n",
    "K = 2\n",
    "a = np.array([0.4,0.6])\n",
    "r = 0.1\n",
    "P = r*np.array([[2,0.1],[0.1,2]])\n",
    "\n",
    "# # Model parameter for Erdos-Renyi model\n",
    "# n = 500\n",
    "# K = 1\n",
    "# a = np.array([1])\n",
    "# r = 0.1\n",
    "# P = r*np.array([[6]])"
   ]
  },
  {
   "cell_type": "code",
   "execution_count": 582,
   "id": "c2fe631e",
   "metadata": {},
   "outputs": [
    {
     "name": "stderr",
     "output_type": "stream",
     "text": [
      "100%|███████████████████████████████████████████████████████████████████████████████████████████████████████████████████████████████████████████████████████████████████████████| 100/100 [00:01<00:00, 68.27it/s]\n"
     ]
    }
   ],
   "source": [
    "# Generate data from SBM\n",
    "np.random.seed(13)\n",
    "data = []\n",
    "for _ in tqdm(range(N_rep)):\n",
    "    # Construct Pi\n",
    "    pi_mat = np.random.multinomial(n=1, pvals=a, size=n)\n",
    "    # Construct Omega\n",
    "    Omega = multi_dot([pi_mat, P, transpose(pi_mat)])\n",
    "    # Sample adjacency matrix\n",
    "    bern_vars = np.random.binomial(n=1, p=Omega)\n",
    "    tri = np.triu(bern_vars, k=1)\n",
    "    adj = tri+transpose(tri)\n",
    "    data.append(adj)\n",
    "data = np.array(data)"
   ]
  },
  {
   "cell_type": "markdown",
   "id": "42527ba6",
   "metadata": {},
   "source": [
    "# Check PET"
   ]
  },
  {
   "cell_type": "code",
   "execution_count": 515,
   "id": "06fd93df",
   "metadata": {},
   "outputs": [
    {
     "name": "stderr",
     "output_type": "stream",
     "text": [
      "100%|███████████████████████████████████████████████████████████████████████████████████████████████████████████████████████████████████████████████████████████████████████████| 100/100 [00:09<00:00, 10.22it/s]"
     ]
    },
    {
     "name": "stdout",
     "output_type": "stream",
     "text": [
      "Empirical power of PET = 1.0\n"
     ]
    },
    {
     "name": "stderr",
     "output_type": "stream",
     "text": [
      "\n"
     ]
    }
   ],
   "source": [
    "# Run PET on data, report estimated power\n",
    "power_PET = 0\n",
    "for c in tqdm(range(N_rep)): \n",
    "    A = data[c,:,:]\n",
    "    power_PET += st.PET_test(A, level)['reject']\n",
    "power_PET = power_PET/N_rep\n",
    "print(f'Empirical power of PET = {power_PET}')"
   ]
  },
  {
   "cell_type": "markdown",
   "id": "outstanding-ethnic",
   "metadata": {},
   "source": [
    "# Check eigenvalue-based test"
   ]
  },
  {
   "cell_type": "code",
   "execution_count": 516,
   "id": "5fc57331",
   "metadata": {},
   "outputs": [
    {
     "name": "stderr",
     "output_type": "stream",
     "text": [
      "100%|███████████████████████████████████████████████████████████████████████████████████████████████████████████████████████████████████████████████████████████████████████████| 100/100 [00:53<00:00,  1.86it/s]"
     ]
    },
    {
     "name": "stdout",
     "output_type": "stream",
     "text": [
      "Empirical power of Lei test = 1.0\n"
     ]
    },
    {
     "name": "stderr",
     "output_type": "stream",
     "text": [
      "\n"
     ]
    }
   ],
   "source": [
    "# Run test of Lei (2016) on data, report estimated power\n",
    "reload(st)\n",
    "K0 = 1\n",
    "power_lei = 0\n",
    "for c in tqdm(range(N_rep)): \n",
    "    A = data[c,:,:]\n",
    "    power_lei += st.lei_test(A, K0, level)['reject']\n",
    "power_lei = power_lei/N_rep\n",
    "print(f'Empirical power of Lei test = {power_lei}')"
   ]
  },
  {
   "cell_type": "markdown",
   "id": "77fc3dcf",
   "metadata": {},
   "source": [
    "# Check Likelihood Ratio criterion of Wang & Bickel (2016)"
   ]
  },
  {
   "cell_type": "code",
   "execution_count": 583,
   "id": "80224ad8",
   "metadata": {},
   "outputs": [
    {
     "name": "stderr",
     "output_type": "stream",
     "text": [
      "100%|███████████████████████████████████████████████████████████████████████████████████████████████████████████████████████████████████████████████████████████████████████████| 100/100 [00:50<00:00,  1.99it/s]"
     ]
    },
    {
     "name": "stdout",
     "output_type": "stream",
     "text": [
      "Empirical power of Wang & Bickel test = 1.0\n"
     ]
    },
    {
     "name": "stderr",
     "output_type": "stream",
     "text": [
      "\n"
     ]
    }
   ],
   "source": [
    "# Run model selection approach of Wang & Bickel (2016) on data, report estimated power\n",
    "Kmax = 2\n",
    "power_wang = 0\n",
    "for c in tqdm(range(N_rep)): \n",
    "    A = data[c,:,:]\n",
    "    power_wang += st.wangbickel_likelihood_method(A, Kmax, tol=1e-8, tol_fp=1e-4, max_iter=100, seed=13)['reject']\n",
    "power_wang = power_wang/N_rep\n",
    "print(f'Empirical power of Wang & Bickel test = {power_wang}')"
   ]
  },
  {
   "cell_type": "markdown",
   "id": "52bad151",
   "metadata": {},
   "source": [
    "# Reproduce Figure 3(a) of Bickel and Wang\n"
   ]
  },
  {
   "cell_type": "code",
   "execution_count": 667,
   "id": "27fb28d7",
   "metadata": {},
   "outputs": [],
   "source": [
    "# Model parameter for Erdos-Renyi model\n",
    "N_rep = 50\n",
    "n = 500\n",
    "K = 2\n",
    "a = np.array([0.4,0.6])\n",
    "r_list = np.arange(0.02, 0.4, 0.02)\n",
    "S = np.array([[2,1],[1,2]])"
   ]
  },
  {
   "cell_type": "code",
   "execution_count": 668,
   "id": "acc3ff13",
   "metadata": {},
   "outputs": [
    {
     "name": "stdout",
     "output_type": "stream",
     "text": [
      "Process r=0.02\n"
     ]
    },
    {
     "name": "stderr",
     "output_type": "stream",
     "text": [
      "100%|████████████████████████████████████████████████████████████████████████████████████████████████████████████████████████████████████████████████████████████████████████████| 50/50 [8:48:43<00:00, 634.47s/it]\n"
     ]
    },
    {
     "name": "stdout",
     "output_type": "stream",
     "text": [
      "Process r=0.04\n"
     ]
    },
    {
     "name": "stderr",
     "output_type": "stream",
     "text": [
      "100%|███████████████████████████████████████████████████████████████████████████████████████████████████████████████████████████████████████████████████████████████████████████████| 50/50 [13:48<00:00, 16.58s/it]\n"
     ]
    },
    {
     "name": "stdout",
     "output_type": "stream",
     "text": [
      "Process r=0.06\n"
     ]
    },
    {
     "name": "stderr",
     "output_type": "stream",
     "text": [
      "100%|███████████████████████████████████████████████████████████████████████████████████████████████████████████████████████████████████████████████████████████████████████████████| 50/50 [00:20<00:00,  2.47it/s]\n"
     ]
    },
    {
     "name": "stdout",
     "output_type": "stream",
     "text": [
      "Process r=0.08\n"
     ]
    },
    {
     "name": "stderr",
     "output_type": "stream",
     "text": [
      "100%|███████████████████████████████████████████████████████████████████████████████████████████████████████████████████████████████████████████████████████████████████████████████| 50/50 [00:12<00:00,  4.10it/s]\n"
     ]
    },
    {
     "name": "stdout",
     "output_type": "stream",
     "text": [
      "Process r=0.1\n"
     ]
    },
    {
     "name": "stderr",
     "output_type": "stream",
     "text": [
      "100%|███████████████████████████████████████████████████████████████████████████████████████████████████████████████████████████████████████████████████████████████████████████████| 50/50 [00:09<00:00,  5.25it/s]\n"
     ]
    },
    {
     "name": "stdout",
     "output_type": "stream",
     "text": [
      "Process r=0.12000000000000001\n"
     ]
    },
    {
     "name": "stderr",
     "output_type": "stream",
     "text": [
      "100%|███████████████████████████████████████████████████████████████████████████████████████████████████████████████████████████████████████████████████████████████████████████████| 50/50 [00:11<00:00,  4.21it/s]\n"
     ]
    },
    {
     "name": "stdout",
     "output_type": "stream",
     "text": [
      "Process r=0.13999999999999999\n"
     ]
    },
    {
     "name": "stderr",
     "output_type": "stream",
     "text": [
      "100%|███████████████████████████████████████████████████████████████████████████████████████████████████████████████████████████████████████████████████████████████████████████████| 50/50 [00:08<00:00,  5.65it/s]\n"
     ]
    },
    {
     "name": "stdout",
     "output_type": "stream",
     "text": [
      "Process r=0.16\n"
     ]
    },
    {
     "name": "stderr",
     "output_type": "stream",
     "text": [
      "100%|███████████████████████████████████████████████████████████████████████████████████████████████████████████████████████████████████████████████████████████████████████████████| 50/50 [00:08<00:00,  5.70it/s]\n"
     ]
    },
    {
     "name": "stdout",
     "output_type": "stream",
     "text": [
      "Process r=0.18\n"
     ]
    },
    {
     "name": "stderr",
     "output_type": "stream",
     "text": [
      "100%|███████████████████████████████████████████████████████████████████████████████████████████████████████████████████████████████████████████████████████████████████████████████| 50/50 [00:07<00:00,  6.66it/s]\n"
     ]
    },
    {
     "name": "stdout",
     "output_type": "stream",
     "text": [
      "Process r=0.19999999999999998\n"
     ]
    },
    {
     "name": "stderr",
     "output_type": "stream",
     "text": [
      "100%|███████████████████████████████████████████████████████████████████████████████████████████████████████████████████████████████████████████████████████████████████████████████| 50/50 [00:07<00:00,  6.45it/s]\n"
     ]
    },
    {
     "name": "stdout",
     "output_type": "stream",
     "text": [
      "Process r=0.22\n"
     ]
    },
    {
     "name": "stderr",
     "output_type": "stream",
     "text": [
      "100%|███████████████████████████████████████████████████████████████████████████████████████████████████████████████████████████████████████████████████████████████████████████████| 50/50 [00:07<00:00,  6.41it/s]\n"
     ]
    },
    {
     "name": "stdout",
     "output_type": "stream",
     "text": [
      "Process r=0.24\n"
     ]
    },
    {
     "name": "stderr",
     "output_type": "stream",
     "text": [
      "100%|███████████████████████████████████████████████████████████████████████████████████████████████████████████████████████████████████████████████████████████████████████████████| 50/50 [00:07<00:00,  6.66it/s]\n"
     ]
    },
    {
     "name": "stdout",
     "output_type": "stream",
     "text": [
      "Process r=0.26\n"
     ]
    },
    {
     "name": "stderr",
     "output_type": "stream",
     "text": [
      "100%|███████████████████████████████████████████████████████████████████████████████████████████████████████████████████████████████████████████████████████████████████████████████| 50/50 [00:08<00:00,  6.10it/s]\n"
     ]
    },
    {
     "name": "stdout",
     "output_type": "stream",
     "text": [
      "Process r=0.28\n"
     ]
    },
    {
     "name": "stderr",
     "output_type": "stream",
     "text": [
      "100%|███████████████████████████████████████████████████████████████████████████████████████████████████████████████████████████████████████████████████████████████████████████████| 50/50 [00:07<00:00,  6.62it/s]\n"
     ]
    },
    {
     "name": "stdout",
     "output_type": "stream",
     "text": [
      "Process r=0.30000000000000004\n"
     ]
    },
    {
     "name": "stderr",
     "output_type": "stream",
     "text": [
      "100%|███████████████████████████████████████████████████████████████████████████████████████████████████████████████████████████████████████████████████████████████████████████████| 50/50 [00:07<00:00,  6.51it/s]\n"
     ]
    },
    {
     "name": "stdout",
     "output_type": "stream",
     "text": [
      "Process r=0.32\n"
     ]
    },
    {
     "name": "stderr",
     "output_type": "stream",
     "text": [
      "100%|███████████████████████████████████████████████████████████████████████████████████████████████████████████████████████████████████████████████████████████████████████████████| 50/50 [00:07<00:00,  6.39it/s]\n"
     ]
    },
    {
     "name": "stdout",
     "output_type": "stream",
     "text": [
      "Process r=0.34\n"
     ]
    },
    {
     "name": "stderr",
     "output_type": "stream",
     "text": [
      "100%|███████████████████████████████████████████████████████████████████████████████████████████████████████████████████████████████████████████████████████████████████████████████| 50/50 [00:08<00:00,  6.23it/s]\n"
     ]
    },
    {
     "name": "stdout",
     "output_type": "stream",
     "text": [
      "Process r=0.36000000000000004\n"
     ]
    },
    {
     "name": "stderr",
     "output_type": "stream",
     "text": [
      "100%|███████████████████████████████████████████████████████████████████████████████████████████████████████████████████████████████████████████████████████████████████████████████| 50/50 [00:09<00:00,  5.54it/s]\n"
     ]
    },
    {
     "name": "stdout",
     "output_type": "stream",
     "text": [
      "Process r=0.38\n"
     ]
    },
    {
     "name": "stderr",
     "output_type": "stream",
     "text": [
      "100%|███████████████████████████████████████████████████████████████████████████████████████████████████████████████████████████████████████████████████████████████████████████████| 50/50 [00:08<00:00,  5.56it/s]\n"
     ]
    }
   ],
   "source": [
    "# Compute fraction of correct K\n",
    "np.random.seed(14)\n",
    "Kmax = 2\n",
    "frac_K = []\n",
    "for r in r_list:\n",
    "    print(f'Process r={r}')\n",
    "    \n",
    "    # Define P\n",
    "    P = r*S\n",
    "    \n",
    "    # Generate data from SBM\n",
    "    data = []\n",
    "    for _ in range(N_rep):\n",
    "        # Construct Pi\n",
    "        pi_mat = np.random.multinomial(n=1, pvals=a, size=n)\n",
    "        # Construct Omega\n",
    "        Omega = multi_dot([pi_mat, P, transpose(pi_mat)])\n",
    "        # Sample adjacency matrix\n",
    "        bern_vars = np.random.binomial(n=1, p=Omega)\n",
    "        tri = np.triu(bern_vars, k=1)\n",
    "        adj = tri+transpose(tri)\n",
    "        data.append(adj)\n",
    "    data = np.array(data)\n",
    "    \n",
    "    # Model selection\n",
    "    power_wang = 0\n",
    "    for c in tqdm(range(N_rep)): \n",
    "        A = data[c,:,:]\n",
    "        power_wang += st.wangbickel_likelihood_method(A, Kmax, tol=1e-8, tol_fp=1e-4, max_iter=100, seed=13)['reject']\n",
    "    power_wang = power_wang/N_rep\n",
    "    frac_K.append(power_wang)\n",
    "frac_K = np.array(frac_K)"
   ]
  },
  {
   "cell_type": "code",
   "execution_count": 669,
   "id": "9687bcd6",
   "metadata": {},
   "outputs": [
    {
     "data": {
      "image/png": "[encoded data removed]",
      "text/plain": [
       "<Figure size 432x288 with 1 Axes>"
      ]
     },
     "metadata": {},
     "output_type": "display_data"
    }
   ],
   "source": [
    "# Plot Figure 3 of Bickel and Wang\n",
    "plt.figure()\n",
    "plt.plot(r_list, frac_K)\n",
    "plt.xlabel('r')\n",
    "plt.ylabel('fraction of correct K')\n",
    "plt.show()"
   ]
  },
  {
   "cell_type": "code",
   "execution_count": 671,
   "id": "cd10a83a",
   "metadata": {},
   "outputs": [
    {
     "data": {
      "text/plain": [
       "array([0.28, 0.52, 0.52, 0.44, 0.58, 0.48, 0.44, 0.72, 1.  , 1.  , 1.  ,\n",
       "       1.  , 1.  , 1.  , 1.  , 1.  , 1.  , 1.  , 1.  ])"
      ]
     },
     "execution_count": 671,
     "metadata": {},
     "output_type": "execute_result"
    }
   ],
   "source": [
    "frac_K"
   ]
  },
  {
   "cell_type": "code",
   "execution_count": 692,
   "id": "115dc888",
   "metadata": {},
   "outputs": [],
   "source": [
    "# Model parameter for Erdos-Renyi model\n",
    "N_rep = 1000\n",
    "n = 500\n",
    "K = 2\n",
    "a = np.array([0.4,0.6])\n",
    "r_list = np.arange(0.04, 0.4, 0.02)\n",
    "S = np.array([[2,1],[1,2]])"
   ]
  },
  {
   "cell_type": "code",
   "execution_count": 693,
   "id": "d56a0576",
   "metadata": {},
   "outputs": [
    {
     "name": "stdout",
     "output_type": "stream",
     "text": [
      "Process r=0.04\n"
     ]
    },
    {
     "name": "stderr",
     "output_type": "stream",
     "text": [
      "100%|███████████████████████████████████████████████████████████████████████████████████████████████████████████████████████████████████████████████████████████████████████████| 1000/1000 [39:09<00:00,  2.35s/it]\n"
     ]
    },
    {
     "name": "stdout",
     "output_type": "stream",
     "text": [
      "Process r=0.06\n"
     ]
    },
    {
     "name": "stderr",
     "output_type": "stream",
     "text": [
      "100%|███████████████████████████████████████████████████████████████████████████████████████████████████████████████████████████████████████████████████████████████████████████| 1000/1000 [21:50<00:00,  1.31s/it]\n"
     ]
    },
    {
     "name": "stdout",
     "output_type": "stream",
     "text": [
      "Process r=0.07999999999999999\n"
     ]
    },
    {
     "name": "stderr",
     "output_type": "stream",
     "text": [
      "100%|███████████████████████████████████████████████████████████████████████████████████████████████████████████████████████████████████████████████████████████████████████████| 1000/1000 [11:47<00:00,  1.41it/s]\n"
     ]
    },
    {
     "name": "stdout",
     "output_type": "stream",
     "text": [
      "Process r=0.09999999999999999\n"
     ]
    },
    {
     "name": "stderr",
     "output_type": "stream",
     "text": [
      "100%|███████████████████████████████████████████████████████████████████████████████████████████████████████████████████████████████████████████████████████████████████████████| 1000/1000 [08:11<00:00,  2.03it/s]\n"
     ]
    },
    {
     "name": "stdout",
     "output_type": "stream",
     "text": [
      "Process r=0.12\n"
     ]
    },
    {
     "name": "stderr",
     "output_type": "stream",
     "text": [
      "100%|███████████████████████████████████████████████████████████████████████████████████████████████████████████████████████████████████████████████████████████████████████████| 1000/1000 [06:49<00:00,  2.44it/s]\n"
     ]
    },
    {
     "name": "stdout",
     "output_type": "stream",
     "text": [
      "Process r=0.13999999999999999\n"
     ]
    },
    {
     "name": "stderr",
     "output_type": "stream",
     "text": [
      "100%|███████████████████████████████████████████████████████████████████████████████████████████████████████████████████████████████████████████████████████████████████████████| 1000/1000 [05:44<00:00,  2.90it/s]\n"
     ]
    },
    {
     "name": "stdout",
     "output_type": "stream",
     "text": [
      "Process r=0.15999999999999998\n"
     ]
    },
    {
     "name": "stderr",
     "output_type": "stream",
     "text": [
      "100%|███████████████████████████████████████████████████████████████████████████████████████████████████████████████████████████████████████████████████████████████████████████| 1000/1000 [05:17<00:00,  3.15it/s]\n"
     ]
    },
    {
     "name": "stdout",
     "output_type": "stream",
     "text": [
      "Process r=0.18\n"
     ]
    },
    {
     "name": "stderr",
     "output_type": "stream",
     "text": [
      "100%|███████████████████████████████████████████████████████████████████████████████████████████████████████████████████████████████████████████████████████████████████████████| 1000/1000 [04:56<00:00,  3.37it/s]\n"
     ]
    },
    {
     "name": "stdout",
     "output_type": "stream",
     "text": [
      "Process r=0.19999999999999998\n"
     ]
    },
    {
     "name": "stderr",
     "output_type": "stream",
     "text": [
      "100%|███████████████████████████████████████████████████████████████████████████████████████████████████████████████████████████████████████████████████████████████████████████| 1000/1000 [04:49<00:00,  3.46it/s]\n"
     ]
    },
    {
     "name": "stdout",
     "output_type": "stream",
     "text": [
      "Process r=0.21999999999999997\n"
     ]
    },
    {
     "name": "stderr",
     "output_type": "stream",
     "text": [
      "100%|███████████████████████████████████████████████████████████████████████████████████████████████████████████████████████████████████████████████████████████████████████████| 1000/1000 [04:27<00:00,  3.74it/s]\n"
     ]
    },
    {
     "name": "stdout",
     "output_type": "stream",
     "text": [
      "Process r=0.23999999999999996\n"
     ]
    },
    {
     "name": "stderr",
     "output_type": "stream",
     "text": [
      "100%|███████████████████████████████████████████████████████████████████████████████████████████████████████████████████████████████████████████████████████████████████████████| 1000/1000 [04:05<00:00,  4.07it/s]\n"
     ]
    },
    {
     "name": "stdout",
     "output_type": "stream",
     "text": [
      "Process r=0.25999999999999995\n"
     ]
    },
    {
     "name": "stderr",
     "output_type": "stream",
     "text": [
      "100%|███████████████████████████████████████████████████████████████████████████████████████████████████████████████████████████████████████████████████████████████████████████| 1000/1000 [03:58<00:00,  4.19it/s]\n"
     ]
    },
    {
     "name": "stdout",
     "output_type": "stream",
     "text": [
      "Process r=0.27999999999999997\n"
     ]
    },
    {
     "name": "stderr",
     "output_type": "stream",
     "text": [
      "100%|███████████████████████████████████████████████████████████████████████████████████████████████████████████████████████████████████████████████████████████████████████████| 1000/1000 [03:44<00:00,  4.46it/s]\n"
     ]
    },
    {
     "name": "stdout",
     "output_type": "stream",
     "text": [
      "Process r=0.29999999999999993\n"
     ]
    },
    {
     "name": "stderr",
     "output_type": "stream",
     "text": [
      "100%|███████████████████████████████████████████████████████████████████████████████████████████████████████████████████████████████████████████████████████████████████████████| 1000/1000 [03:47<00:00,  4.39it/s]\n"
     ]
    },
    {
     "name": "stdout",
     "output_type": "stream",
     "text": [
      "Process r=0.31999999999999995\n"
     ]
    },
    {
     "name": "stderr",
     "output_type": "stream",
     "text": [
      "100%|███████████████████████████████████████████████████████████████████████████████████████████████████████████████████████████████████████████████████████████████████████████| 1000/1000 [03:45<00:00,  4.44it/s]\n"
     ]
    },
    {
     "name": "stdout",
     "output_type": "stream",
     "text": [
      "Process r=0.3399999999999999\n"
     ]
    },
    {
     "name": "stderr",
     "output_type": "stream",
     "text": [
      "100%|███████████████████████████████████████████████████████████████████████████████████████████████████████████████████████████████████████████████████████████████████████████| 1000/1000 [03:27<00:00,  4.82it/s]\n"
     ]
    },
    {
     "name": "stdout",
     "output_type": "stream",
     "text": [
      "Process r=0.35999999999999993\n"
     ]
    },
    {
     "name": "stderr",
     "output_type": "stream",
     "text": [
      "100%|███████████████████████████████████████████████████████████████████████████████████████████████████████████████████████████████████████████████████████████████████████████| 1000/1000 [03:26<00:00,  4.83it/s]\n"
     ]
    },
    {
     "name": "stdout",
     "output_type": "stream",
     "text": [
      "Process r=0.37999999999999995\n"
     ]
    },
    {
     "name": "stderr",
     "output_type": "stream",
     "text": [
      "100%|███████████████████████████████████████████████████████████████████████████████████████████████████████████████████████████████████████████████████████████████████████████| 1000/1000 [03:15<00:00,  5.12it/s]\n"
     ]
    }
   ],
   "source": [
    "# Compute fraction of correct K\n",
    "np.random.seed(14)\n",
    "Kmax = 2\n",
    "frac_K = []\n",
    "for r in r_list:\n",
    "    print(f'Process r={r}')\n",
    "    \n",
    "    # Define P\n",
    "    P = r*S\n",
    "    \n",
    "    # Generate data from SBM\n",
    "    data = []\n",
    "    for _ in range(N_rep):\n",
    "        # Construct Pi\n",
    "        pi_mat = np.random.multinomial(n=1, pvals=a, size=n)\n",
    "        # Construct Omega\n",
    "        Omega = multi_dot([pi_mat, P, transpose(pi_mat)])\n",
    "        # Sample adjacency matrix\n",
    "        bern_vars = np.random.binomial(n=1, p=Omega)\n",
    "        tri = np.triu(bern_vars, k=1)\n",
    "        adj = tri+transpose(tri)\n",
    "        data.append(adj)\n",
    "    data = np.array(data)\n",
    "    \n",
    "    # Model selection\n",
    "    power_wang = 0\n",
    "    for c in tqdm(range(N_rep)): \n",
    "        A = data[c,:,:]\n",
    "        power_wang += st.wangbickel_likelihood_method(A, Kmax, tol=1e-8, tol_fp=1e-4, max_iter=100, seed=13)['reject']\n",
    "    power_wang = power_wang/N_rep\n",
    "    frac_K.append(power_wang)\n",
    "frac_K = np.array(frac_K)"
   ]
  },
  {
   "cell_type": "code",
   "execution_count": 694,
   "id": "b0e666e8",
   "metadata": {},
   "outputs": [
    {
     "data": {
      "image/png": "[encoded data removed]",
      "text/plain": [
       "<Figure size 432x288 with 1 Axes>"
      ]
     },
     "metadata": {},
     "output_type": "display_data"
    }
   ],
   "source": [
    "# Plot Figure 3 of Bickel and Wang\n",
    "plt.figure()\n",
    "plt.plot(r_list, frac_K)\n",
    "plt.xlabel('r')\n",
    "plt.ylabel('fraction of correct K')\n",
    "plt.show()"
   ]
  },
  {
   "cell_type": "code",
   "execution_count": 695,
   "id": "df128859",
   "metadata": {},
   "outputs": [
    {
     "data": {
      "text/plain": [
       "array([0.664, 0.606, 0.561, 0.513, 0.493, 0.47 , 0.787, 1.   , 1.   ,\n",
       "       1.   , 1.   , 1.   , 1.   , 1.   , 1.   , 1.   , 1.   , 1.   ])"
      ]
     },
     "execution_count": 695,
     "metadata": {},
     "output_type": "execute_result"
    }
   ],
   "source": [
    "frac_K"
   ]
  },
  {
   "cell_type": "code",
   "execution_count": null,
   "id": "748e0c8f",
   "metadata": {},
   "outputs": [],
   "source": []
  }
 ],
 "metadata": {
  "kernelspec": {
   "display_name": "Python 3 (ipykernel)",
   "language": "python",
   "name": "python3"
  },
  "language_info": {
   "codemirror_mode": {
    "name": "ipython",
    "version": 3
   },
   "file_extension": ".py",
   "mimetype": "text/x-python",
   "name": "python",
   "nbconvert_exporter": "python",
   "pygments_lexer": "ipython3",
   "version": "3.9.7"
  }
 },
 "nbformat": 4,
 "nbformat_minor": 5
}
