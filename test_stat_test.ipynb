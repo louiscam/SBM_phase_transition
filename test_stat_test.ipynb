{
 "cells": [
  {
   "cell_type": "code",
   "execution_count": 1,
   "metadata": {},
   "outputs": [],
   "source": [
    "import numpy as np\n",
    "from numpy import transpose, trace, multiply, power, dot\n",
    "from numpy.linalg import multi_dot, matrix_power\n",
    "import scipy.stats as ss\n",
    "from scipy.special import comb\n",
    "import data_gen as dg\n",
    "import stat_test as st"
   ]
  },
  {
   "cell_type": "code",
   "execution_count": 2,
   "metadata": {},
   "outputs": [],
   "source": [
    "# Sample adjacency matrix\n",
    "n = 10\n",
    "alpha = 0.5\n",
    "A = dg.sample_null_adj_mat(n, alpha)"
   ]
  },
  {
   "cell_type": "code",
   "execution_count": 3,
   "metadata": {},
   "outputs": [],
   "source": [
    "def degree_test(A, level):\n",
    "    '''\n",
    "    Function used to perform the degree-based chi-squared test for the global\n",
    "    detection problem. The test statistic is computed as the scaled sum of squared\n",
    "    discrepancies of node degrees with respect to the average degree. Properly \n",
    "    centered and scaled, this statistic asymptotically follows a standard normal\n",
    "    distribution. This property is used to provide an asymptotic p-value for the \n",
    "    two-sided test. Rejection of the null hypothesis is determined using the test level\n",
    "    specified as input.\n",
    "    \n",
    "    Args:\n",
    "      A: (Numpy array) adjacency matrix\n",
    "      level: (float) level of the test\n",
    "      \n",
    "    Returns:\n",
    "      A dictionary containing the test statistic, asymptotic p-value and Boolean\n",
    "      indicating whether the null hypothesis (only one community) was rejected.\n",
    "    '''\n",
    "    # Helpers\n",
    "    n = A.shape[0]\n",
    "    # Vector of degrees\n",
    "    d = np.sum(A, axis=1, keepdims=True)\n",
    "    # Edge probability estimate\n",
    "    alpha_n = np.sum(A)/(n*(n-1))\n",
    "    if (alpha_n==0):\n",
    "        alpha_n = 2/(n*(n-1))\n",
    "    if (alpha_n==1):\n",
    "        alpha_n = (n*(n-1)-2)/(n*(n-1))\n",
    "    # Average degree\n",
    "    d_bar = (n-1)*alpha_n\n",
    "    # Compute test statistic\n",
    "    X_n = np.sum(np.power(d-d_bar,2))/((n-1)*alpha_n*(1-alpha_n))\n",
    "    T = (X_n-n)/np.sqrt(2*n)\n",
    "    # Asymptotic p-value\n",
    "    pval = ss.norm.sf(abs(T), loc=0, scale=1)\n",
    "    # Test result\n",
    "    reject = (pval<=level/2)\n",
    "    return({'test_stat': T, 'p_val': pval, 'reject': reject})"
   ]
  },
  {
   "cell_type": "code",
   "execution_count": 5,
   "metadata": {},
   "outputs": [
    {
     "name": "stdout",
     "output_type": "stream",
     "text": [
      "{'test_stat': -1.4774020565623611, 'p_val': 0.06978394761069408, 'reject': False}\n",
      "{'test_stat': -1.4774020565623611, 'p_val': 0.9302160523893059, 'reject': False}\n"
     ]
    }
   ],
   "source": [
    "# Test degree_test\n",
    "level = 0.05\n",
    "print(degree_test(A, level))\n",
    "print(st.degree_test(A, level))"
   ]
  },
  {
   "cell_type": "code",
   "execution_count": 6,
   "metadata": {},
   "outputs": [],
   "source": [
    "def ST_test(A, level):\n",
    "    '''\n",
    "    Function used to perform the Signed Triangle (ST) test, which counts the\n",
    "    number of signed 3-cycles in the adjacency matrix. Properly centered and scaled, \n",
    "    this statistic asymptotically follows a standard normal distribution. This \n",
    "    property is used to provide an asymptotic p-value for the two-sided test. Rejection \n",
    "    of the null hypothesis is determined using the test level specified as input.\n",
    "    \n",
    "    Args:\n",
    "      A: (Numpy array) adjacency matrix\n",
    "      level: (float) level of the test\n",
    "      \n",
    "    Returns:\n",
    "      A dictionary containing the test statistic, an asymptotic p-value and a logical\n",
    "      indicating whether the null hypothesis (only one community) was rejected.\n",
    "    '''\n",
    "    # Matrix dimension\n",
    "    n = A.shape[0]\n",
    "    # Edge probability estimate\n",
    "    alpha_n = np.sum(A)/(n*(n-1))\n",
    "    if (alpha_n==0):\n",
    "        alpha_n = 2/(n*(n-1))\n",
    "    if (alpha_n==1):\n",
    "        alpha_n = (n*(n-1)-2)/(n*(n-1))\n",
    "    # Helper quantities\n",
    "    B = A-alpha_n\n",
    "    B2 = dot(B,B)\n",
    "    B3 = dot(B2,B)\n",
    "    # Compute test statistic\n",
    "    T_n = trace(B3)-3*trace(B*B2)+2*trace(B*B*B)\n",
    "    T = T_n/np.sqrt(comb(n,3)*(alpha_n**3)*((1-alpha_n)**3))\n",
    "    # Asymptotic p-value\n",
    "    pval = ss.norm.sf(abs(T), loc=0, scale=1)\n",
    "    # Test result\n",
    "    reject = (pval<=level/2)\n",
    "    return({'test_stat': T, 'p_val': pval, 'reject': reject})"
   ]
  },
  {
   "cell_type": "code",
   "execution_count": 7,
   "metadata": {},
   "outputs": [
    {
     "name": "stdout",
     "output_type": "stream",
     "text": [
      "{'test_stat': 1.137097852855208, 'p_val': 0.12774869071823813, 'reject': False}\n",
      "{'test_stat': 1.137097852855208, 'p_val': 0.12774869071823813, 'reject': False}\n"
     ]
    }
   ],
   "source": [
    "# Test ST_test\n",
    "level = 0.05\n",
    "print(ST_test(A, level))\n",
    "print(st.ST_test(A, level))"
   ]
  },
  {
   "cell_type": "code",
   "execution_count": 8,
   "metadata": {},
   "outputs": [],
   "source": [
    "def SQ_test(A, level):\n",
    "    '''\n",
    "    Function used to perform the Signed Quadrilateral (SQ) test, which counts the\n",
    "    number of signed 4-cycles in the adjacency matrix. Properly centered and scaled, \n",
    "    this statistic asymptotically follows a standard normal distribution. This \n",
    "    property is used to provide an asymptotic p-value for the two-sided test. Rejection \n",
    "    of the null hypothesis is determined using the test level specified as input.\n",
    "    \n",
    "    Args:\n",
    "      A: (Numpy array) adjacency matrix\n",
    "      level: (float) level of the test\n",
    "      \n",
    "    Returns:\n",
    "      A dictionary containing the test statistic, an asymptotic p-value and a logical\n",
    "      indicating whether the null hypothesis (only one community) was rejected.\n",
    "    '''\n",
    "    # Matrix dimension\n",
    "    n = A.shape[0]\n",
    "    # Edge probability estimate\n",
    "    alpha_n = np.sum(A)/(n*(n-1))\n",
    "    if (alpha_n==0):\n",
    "        alpha_n = 2/(n*(n-1))\n",
    "    if (alpha_n==1):\n",
    "        alpha_n = (n*(n-1)-2)/(n*(n-1))\n",
    "    # Helper quantities\n",
    "    B = A-alpha_n\n",
    "    D = np.diag(np.diag(B))\n",
    "    B2 = dot(B,B)\n",
    "    B3 = dot(B2,B)\n",
    "    B4 = dot(B3,B)\n",
    "    hB2 = B*B\n",
    "    hB4 = hB2*hB2\n",
    "    # Compute partial sums\n",
    "    S1 = trace(B*B3)-2*trace(hB2*B2)-np.sum(multi_dot([D,hB2,D]))+2*trace(hB4)\n",
    "    S2 = trace(B2*B2)-2*trace(hB2*B2)-np.sum(hB4)+2*trace(hB4)\n",
    "    S3 = trace(hB2*B2)-trace(hB4)\n",
    "    S4 = np.sum(hB4)-trace(hB4)\n",
    "    S5 = np.sum(multi_dot([D,hB2,D]))-trace(hB4)\n",
    "    S6 = trace(hB4)\n",
    "    # Compute test statistic\n",
    "    Q_n = trace(B4)-4*S1-2*S2-4*S3-S4-2*S5-S6\n",
    "    T = Q_n/(2*np.sqrt(2)*np.power(n,2)*np.power(alpha_n,2)**np.power(1-alpha_n,2))\n",
    "    # Asymptotic p-value\n",
    "    pval = ss.norm.sf(abs(T), loc=0, scale=1)\n",
    "    # Test result\n",
    "    reject = (pval<=level/2)\n",
    "    return({'test_stat': T, 'p_val': pval, 'reject': reject})"
   ]
  },
  {
   "cell_type": "code",
   "execution_count": 9,
   "metadata": {},
   "outputs": [
    {
     "name": "stdout",
     "output_type": "stream",
     "text": [
      "{'test_stat': -0.034598374083809995, 'p_val': 0.48619999900915745, 'reject': False}\n",
      "{'test_stat': -0.36203145659219366, 'p_val': 0.3586642618231333, 'reject': False}\n"
     ]
    }
   ],
   "source": [
    "# Test SQ_test\n",
    "level = 0.05\n",
    "print(SQ_test(A, level))\n",
    "print(st.SQ_test(A, level))"
   ]
  },
  {
   "cell_type": "code",
   "execution_count": 10,
   "metadata": {},
   "outputs": [],
   "source": [
    "def PET_test(A, test_level):\n",
    "    '''\n",
    "    Function used to perform the Power-Enhanced Test (PET), which combines the\n",
    "    strengths of the degree-based chi-square test and the SQ test. The test statistic\n",
    "    is equal to the sum of the squared degree test statistic and the squared SQ test\n",
    "    statistic. The PET statistic follows a Chi-Squared(2) distribution asymptotically.\n",
    "    This property is used to provide an asymptotic p-value for PET. Rejection of the \n",
    "    null hypothesis is determined using the test level specified as input.\n",
    "    \n",
    "    Args:\n",
    "      A: (Numpy array) adjacency matrix\n",
    "      level: (float) level of the test\n",
    "      \n",
    "    Returns:\n",
    "      A dictionary containing the test statistic, an asymptotic p-value and a logical\n",
    "      indicating whether the null hypothesis (only one community) was rejected.\n",
    "    '''\n",
    "    # Compute test statistic\n",
    "    T_X = degree_test(A, level)['test_stat']\n",
    "    T_Q = SQ_test(A, level)['test_stat']\n",
    "    T = T_X**2+T_Q**2\n",
    "    # Asymptotic p-value\n",
    "    pval = ss.chi2.sf(x=T, df=2, loc=0, scale=1)\n",
    "    # Test result\n",
    "    reject = (pval<=level)\n",
    "    return({'test_stat': T, 'p_val': pval, 'reject': reject})"
   ]
  },
  {
   "cell_type": "code",
   "execution_count": 11,
   "metadata": {},
   "outputs": [
    {
     "name": "stdout",
     "output_type": "stream",
     "text": [
      "{'test_stat': 2.183913884223937, 'p_val': 0.3355591808628244, 'reject': False}\n",
      "{'test_stat': 2.3137836122969593, 'p_val': 0.3144620725471336, 'reject': False}\n"
     ]
    }
   ],
   "source": [
    "# Test PET_test\n",
    "level = 0.05\n",
    "print(PET_test(A, level))\n",
    "print(st.PET_test(A, level))"
   ]
  },
  {
   "cell_type": "code",
   "execution_count": null,
   "metadata": {},
   "outputs": [],
   "source": []
  },
  {
   "cell_type": "code",
   "execution_count": null,
   "metadata": {},
   "outputs": [],
   "source": []
  }
 ],
 "metadata": {
  "kernelspec": {
   "display_name": "Python 3",
   "language": "python",
   "name": "python3"
  },
  "language_info": {
   "codemirror_mode": {
    "name": "ipython",
    "version": 3
   },
   "file_extension": ".py",
   "mimetype": "text/x-python",
   "name": "python",
   "nbconvert_exporter": "python",
   "pygments_lexer": "ipython3",
   "version": "3.7.9"
  }
 },
 "nbformat": 4,
 "nbformat_minor": 2
}
