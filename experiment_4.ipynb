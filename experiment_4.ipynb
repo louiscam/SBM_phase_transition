{
 "cells": [
  {
   "cell_type": "code",
   "execution_count": 1,
   "id": "automatic-donor",
   "metadata": {},
   "outputs": [],
   "source": [
    "from importlib import reload\n",
    "import numpy as np\n",
    "from numpy import transpose, trace, multiply, power, dot\n",
    "from numpy.linalg import multi_dot, matrix_power, norm\n",
    "import scipy.stats as ss\n",
    "from scipy.special import comb\n",
    "from sklearn.cluster import KMeans\n",
    "import math\n",
    "import pandas as pd\n",
    "import itertools\n",
    "import time\n",
    "from tqdm import tqdm\n",
    "import seaborn as sns\n",
    "sns.set()\n",
    "import matplotlib.pyplot as plt\n",
    "import pickle\n",
    "from TracyWidom import TracyWidom\n",
    "import data_gen as dg\n",
    "import stat_test as st\n",
    "import visualizations as viz"
   ]
  },
  {
   "cell_type": "code",
   "execution_count": 9,
   "id": "vietnamese-oxide",
   "metadata": {},
   "outputs": [
    {
     "data": {
      "text/plain": [
       "<module 'visualizations' from '/Users/louiscam/Dropbox (MIT)/SBMtesting/Simulations-Python/visualizations.py'>"
      ]
     },
     "execution_count": 9,
     "metadata": {},
     "output_type": "execute_result"
    }
   ],
   "source": [
    "# Reload modules in case of modifications\n",
    "reload(dg)\n",
    "reload(st)\n",
    "reload(viz)"
   ]
  },
  {
   "cell_type": "markdown",
   "id": "69c29ff2",
   "metadata": {},
   "source": [
    "# Experiment 4.1"
   ]
  },
  {
   "cell_type": "code",
   "execution_count": 5,
   "id": "75af27d3",
   "metadata": {},
   "outputs": [],
   "source": [
    "# Test parameters\n",
    "level = 0.05"
   ]
  },
  {
   "cell_type": "code",
   "execution_count": 6,
   "id": "67207866",
   "metadata": {},
   "outputs": [],
   "source": [
    "# Simulation parameters\n",
    "N_rep = 100"
   ]
  },
  {
   "cell_type": "markdown",
   "id": "34e66850",
   "metadata": {},
   "source": [
    "### Null setting"
   ]
  },
  {
   "cell_type": "code",
   "execution_count": 54,
   "id": "77984ecd",
   "metadata": {},
   "outputs": [],
   "source": [
    "# Model parameters\n",
    "n = 500\n",
    "K = 1\n",
    "a = 0.2"
   ]
  },
  {
   "cell_type": "code",
   "execution_count": 55,
   "id": "212e9d78",
   "metadata": {},
   "outputs": [
    {
     "name": "stderr",
     "output_type": "stream",
     "text": [
      "100%|████████████████████████████████████████████████████████████████████████████████████████████████████████████████████████████████████████████████████████████████████████████| 100/100 [00:00<00:00, 232.11it/s]\n"
     ]
    }
   ],
   "source": [
    "# Generate data from SBM\n",
    "np.random.seed(13)\n",
    "data = []\n",
    "for _ in tqdm(range(N_rep)):\n",
    "    adj = dg.sample_null_adj_mat(n, a)\n",
    "    data.append(adj)\n",
    "data = np.array(data)"
   ]
  },
  {
   "cell_type": "code",
   "execution_count": 57,
   "id": "abab34c6",
   "metadata": {},
   "outputs": [
    {
     "name": "stderr",
     "output_type": "stream",
     "text": [
      "100%|█████████████████████████████████████████████████████████████████████████████████████████████████████████████████████████████████████████████████████████████████████████████| 100/100 [00:04<00:00, 24.98it/s]\n"
     ]
    },
    {
     "name": "stdout",
     "output_type": "stream",
     "text": [
      "Empirical power of PET = 0.06\n"
     ]
    },
    {
     "name": "stderr",
     "output_type": "stream",
     "text": [
      "100%|█████████████████████████████████████████████████████████████████████████████████████████████████████████████████████████████████████████████████████████████████████████████| 100/100 [00:21<00:00,  4.73it/s]\n"
     ]
    },
    {
     "name": "stdout",
     "output_type": "stream",
     "text": [
      "Empirical power of Lei test = 0.06\n"
     ]
    },
    {
     "name": "stderr",
     "output_type": "stream",
     "text": [
      "100%|█████████████████████████████████████████████████████████████████████████████████████████████████████████████████████████████████████████████████████████████████████████████| 100/100 [00:48<00:00,  2.05it/s]\n"
     ]
    },
    {
     "name": "stdout",
     "output_type": "stream",
     "text": [
      "Empirical power of Wang & Bickel test = 0.43\n"
     ]
    },
    {
     "name": "stderr",
     "output_type": "stream",
     "text": [
      "100%|█████████████████████████████████████████████████████████████████████████████████████████████████████████████████████████████████████████████████████████████████████████████| 100/100 [00:03<00:00, 27.09it/s]\n"
     ]
    },
    {
     "name": "stdout",
     "output_type": "stream",
     "text": [
      "Empirical power of SQ = 0.05\n"
     ]
    },
    {
     "name": "stderr",
     "output_type": "stream",
     "text": [
      "100%|███████████████████████████████████████████████████████████████████████████████████████████████████████████████████████████████████████████████████████████████████████████| 100/100 [00:00<00:00, 4852.95it/s]"
     ]
    },
    {
     "name": "stdout",
     "output_type": "stream",
     "text": [
      "Empirical power of degree = 0.04\n"
     ]
    },
    {
     "name": "stderr",
     "output_type": "stream",
     "text": [
      "\n"
     ]
    }
   ],
   "source": [
    "# Run PET on data, report estimated power\n",
    "power_PET = 0\n",
    "for c in tqdm(range(N_rep)): \n",
    "    A = data[c,:,:]\n",
    "    power_PET += st.PET_test(A, level)['reject']\n",
    "power_PET = power_PET/N_rep\n",
    "print(f'Empirical power of PET = {power_PET}')\n",
    "\n",
    "# Run test of Lei (2016) on data, report estimated power\n",
    "K0 = 1\n",
    "power_lei = 0\n",
    "for c in tqdm(range(N_rep)): \n",
    "    A = data[c,:,:]\n",
    "    power_lei += st.lei_test(A, K0, level)['reject']\n",
    "power_lei = power_lei/N_rep\n",
    "print(f'Empirical power of Lei test = {power_lei}')\n",
    "\n",
    "# Run model selection approach of Wang & Bickel (2016) on data, report estimated power\n",
    "Kmax = 2\n",
    "power_wang = 0\n",
    "for c in tqdm(range(N_rep)): \n",
    "    A = data[c,:,:]\n",
    "    power_wang += st.wangbickel_likelihood_method(A, Kmax, tol=1e-8, tol_fp=1e-4, max_iter=100, \n",
    "                                                  init='random', seed=13)['reject']\n",
    "power_wang = power_wang/N_rep\n",
    "print(f'Empirical power of Wang & Bickel test = {power_wang}')\n",
    "\n",
    "# Run oSQ on data, report estimated power\n",
    "power_SQ = 0\n",
    "for c in tqdm(range(N_rep)): \n",
    "    A = data[c,:,:]\n",
    "    power_SQ += st.SQ_test(A, level)['reject']\n",
    "power_SQ = power_SQ/N_rep\n",
    "print(f'Empirical power of SQ = {power_SQ}')\n",
    "\n",
    "# Run degree on data, report estimated power\n",
    "power_degree = 0\n",
    "for c in tqdm(range(N_rep)): \n",
    "    A = data[c,:,:]\n",
    "    power_degree += st.degree_test(A, level, two_sided=False)['reject']\n",
    "power_degree = power_degree/N_rep\n",
    "print(f'Empirical power of degree = {power_degree}')"
   ]
  },
  {
   "cell_type": "markdown",
   "id": "15ac08a4",
   "metadata": {},
   "source": [
    "### Symmetric setting"
   ]
  },
  {
   "cell_type": "code",
   "execution_count": 58,
   "id": "88044cd6",
   "metadata": {},
   "outputs": [],
   "source": [
    "# Model parameters\n",
    "n = 500\n",
    "K = 2\n",
    "a = 0.2\n",
    "b = 0.05"
   ]
  },
  {
   "cell_type": "code",
   "execution_count": 59,
   "id": "c2fe631e",
   "metadata": {},
   "outputs": [
    {
     "name": "stderr",
     "output_type": "stream",
     "text": [
      "100%|████████████████████████████████████████████████████████████████████████████████████████████████████████████████████████████████████████████████████████████████████████████| 100/100 [00:00<00:00, 155.12it/s]\n"
     ]
    }
   ],
   "source": [
    "# Generate data from SBM\n",
    "np.random.seed(13)\n",
    "data = []\n",
    "for _ in tqdm(range(N_rep)):\n",
    "    adj = dg.sample_alt_adj_matrix_sym(n, K, a, b, exact=True)\n",
    "    data.append(adj)\n",
    "data = np.array(data)"
   ]
  },
  {
   "cell_type": "code",
   "execution_count": 60,
   "id": "06fd93df",
   "metadata": {},
   "outputs": [
    {
     "name": "stderr",
     "output_type": "stream",
     "text": [
      "100%|█████████████████████████████████████████████████████████████████████████████████████████████████████████████████████████████████████████████████████████████████████████████| 100/100 [00:03<00:00, 27.34it/s]\n"
     ]
    },
    {
     "name": "stdout",
     "output_type": "stream",
     "text": [
      "Empirical power of PET = 1.0\n"
     ]
    },
    {
     "name": "stderr",
     "output_type": "stream",
     "text": [
      "100%|█████████████████████████████████████████████████████████████████████████████████████████████████████████████████████████████████████████████████████████████████████████████| 100/100 [00:22<00:00,  4.44it/s]\n"
     ]
    },
    {
     "name": "stdout",
     "output_type": "stream",
     "text": [
      "Empirical power of Lei test = 1.0\n"
     ]
    },
    {
     "name": "stderr",
     "output_type": "stream",
     "text": [
      "100%|█████████████████████████████████████████████████████████████████████████████████████████████████████████████████████████████████████████████████████████████████████████████| 100/100 [00:11<00:00,  8.71it/s]\n"
     ]
    },
    {
     "name": "stdout",
     "output_type": "stream",
     "text": [
      "Empirical power of Wang & Bickel test = 1.0\n"
     ]
    },
    {
     "name": "stderr",
     "output_type": "stream",
     "text": [
      "100%|█████████████████████████████████████████████████████████████████████████████████████████████████████████████████████████████████████████████████████████████████████████████| 100/100 [00:03<00:00, 27.54it/s]\n"
     ]
    },
    {
     "name": "stdout",
     "output_type": "stream",
     "text": [
      "Empirical power of SQ = 1.0\n"
     ]
    },
    {
     "name": "stderr",
     "output_type": "stream",
     "text": [
      "100%|███████████████████████████████████████████████████████████████████████████████████████████████████████████████████████████████████████████████████████████████████████████| 100/100 [00:00<00:00, 3188.66it/s]"
     ]
    },
    {
     "name": "stdout",
     "output_type": "stream",
     "text": [
      "Empirical power of degree = 0.0\n"
     ]
    },
    {
     "name": "stderr",
     "output_type": "stream",
     "text": [
      "\n"
     ]
    }
   ],
   "source": [
    "# Run PET on data, report estimated power\n",
    "power_PET = 0\n",
    "for c in tqdm(range(N_rep)): \n",
    "    A = data[c,:,:]\n",
    "    power_PET += st.PET_test(A, level)['reject']\n",
    "power_PET = power_PET/N_rep\n",
    "print(f'Empirical power of PET = {power_PET}')\n",
    "\n",
    "# Run test of Lei (2016) on data, report estimated power\n",
    "K0 = 1\n",
    "power_lei = 0\n",
    "for c in tqdm(range(N_rep)): \n",
    "    A = data[c,:,:]\n",
    "    power_lei += st.lei_test(A, K0, level)['reject']\n",
    "power_lei = power_lei/N_rep\n",
    "print(f'Empirical power of Lei test = {power_lei}')\n",
    "\n",
    "# Run model selection approach of Wang & Bickel (2016) on data, report estimated power\n",
    "Kmax = 2\n",
    "power_wang = 0\n",
    "for c in tqdm(range(N_rep)): \n",
    "    A = data[c,:,:]\n",
    "    power_wang += st.wangbickel_likelihood_method(A, Kmax, tol=1e-8, tol_fp=1e-4, max_iter=100, \n",
    "                                                  init='spectral', seed=13)['reject']\n",
    "power_wang = power_wang/N_rep\n",
    "print(f'Empirical power of Wang & Bickel test = {power_wang}')\n",
    "\n",
    "# Run oSQ on data, report estimated power\n",
    "power_SQ = 0\n",
    "for c in tqdm(range(N_rep)): \n",
    "    A = data[c,:,:]\n",
    "    power_SQ += st.SQ_test(A, level)['reject']\n",
    "power_SQ = power_SQ/N_rep\n",
    "print(f'Empirical power of SQ = {power_SQ}')\n",
    "\n",
    "# Run degree on data, report estimated power\n",
    "power_degree = 0\n",
    "for c in tqdm(range(N_rep)): \n",
    "    A = data[c,:,:]\n",
    "    power_degree += st.degree_test(A, level, two_sided=False)['reject']\n",
    "power_degree = power_degree/N_rep\n",
    "print(f'Empirical power of degree = {power_degree}')"
   ]
  },
  {
   "cell_type": "markdown",
   "id": "3f373783",
   "metadata": {},
   "source": [
    "### Asymmetric setting (rank-1)"
   ]
  },
  {
   "cell_type": "code",
   "execution_count": 61,
   "id": "20679d9c",
   "metadata": {},
   "outputs": [],
   "source": [
    "# Model parameters\n",
    "n = 500\n",
    "K = 2\n",
    "b = 1\n",
    "c = 1 \n",
    "a = b+1/n**(1/2)\n",
    "eta = np.concatenate((np.repeat(a,int(K/2)),np.repeat(b,int(K/2)))).reshape((K,1))\n",
    "eta = eta/norm(eta)"
   ]
  },
  {
   "cell_type": "code",
   "execution_count": 62,
   "id": "0161907e",
   "metadata": {},
   "outputs": [
    {
     "name": "stderr",
     "output_type": "stream",
     "text": [
      "100%|████████████████████████████████████████████████████████████████████████████████████████████████████████████████████████████████████████████████████████████████████████████| 100/100 [00:00<00:00, 117.49it/s]\n"
     ]
    }
   ],
   "source": [
    "# Generate data from SBM\n",
    "np.random.seed(13)\n",
    "data = []\n",
    "for _ in tqdm(range(N_rep)):\n",
    "    adj = dg.sample_alt_adj_matrix_rank1(n, K, eta, c, exact=True)\n",
    "    data.append(adj)\n",
    "data = np.array(data)"
   ]
  },
  {
   "cell_type": "code",
   "execution_count": 63,
   "id": "fac9b94c",
   "metadata": {
    "scrolled": false
   },
   "outputs": [
    {
     "name": "stderr",
     "output_type": "stream",
     "text": [
      "100%|█████████████████████████████████████████████████████████████████████████████████████████████████████████████████████████████████████████████████████████████████████████████| 100/100 [00:04<00:00, 24.47it/s]\n"
     ]
    },
    {
     "name": "stdout",
     "output_type": "stream",
     "text": [
      "Empirical power of PET = 0.88\n"
     ]
    },
    {
     "name": "stderr",
     "output_type": "stream",
     "text": [
      "100%|█████████████████████████████████████████████████████████████████████████████████████████████████████████████████████████████████████████████████████████████████████████████| 100/100 [00:22<00:00,  4.43it/s]\n"
     ]
    },
    {
     "name": "stdout",
     "output_type": "stream",
     "text": [
      "Empirical power of Lei test = 0.02\n"
     ]
    },
    {
     "name": "stderr",
     "output_type": "stream",
     "text": [
      "100%|█████████████████████████████████████████████████████████████████████████████████████████████████████████████████████████████████████████████████████████████████████████████| 100/100 [02:43<00:00,  1.63s/it]\n"
     ]
    },
    {
     "name": "stdout",
     "output_type": "stream",
     "text": [
      "Empirical power of Wang & Bickel test = 0.48\n"
     ]
    },
    {
     "name": "stderr",
     "output_type": "stream",
     "text": [
      "100%|█████████████████████████████████████████████████████████████████████████████████████████████████████████████████████████████████████████████████████████████████████████████| 100/100 [00:03<00:00, 28.04it/s]\n"
     ]
    },
    {
     "name": "stdout",
     "output_type": "stream",
     "text": [
      "Empirical power of SQ = 0.04\n"
     ]
    },
    {
     "name": "stderr",
     "output_type": "stream",
     "text": [
      "100%|███████████████████████████████████████████████████████████████████████████████████████████████████████████████████████████████████████████████████████████████████████████| 100/100 [00:00<00:00, 3307.99it/s]"
     ]
    },
    {
     "name": "stdout",
     "output_type": "stream",
     "text": [
      "Empirical power of degree = 0.95\n"
     ]
    },
    {
     "name": "stderr",
     "output_type": "stream",
     "text": [
      "\n"
     ]
    }
   ],
   "source": [
    "# Run PET on data, report estimated power\n",
    "power_PET = 0\n",
    "for c in tqdm(range(N_rep)): \n",
    "    A = data[c,:,:]\n",
    "    power_PET += st.PET_test(A, level)['reject']\n",
    "power_PET = power_PET/N_rep\n",
    "print(f'Empirical power of PET = {power_PET}')\n",
    "\n",
    "# Run test of Lei (2016) on data, report estimated power\n",
    "K0 = 1\n",
    "power_lei = 0\n",
    "for c in tqdm(range(N_rep)): \n",
    "    A = data[c,:,:]\n",
    "    power_lei += st.lei_test(A, K0, level)['reject']\n",
    "power_lei = power_lei/N_rep\n",
    "print(f'Empirical power of Lei test = {power_lei}')\n",
    "\n",
    "# Run model selection approach of Wang & Bickel (2016) on data, report estimated power\n",
    "Kmax = 2\n",
    "power_wang = 0\n",
    "for c in tqdm(range(N_rep)): \n",
    "    A = data[c,:,:]\n",
    "    power_wang += st.wangbickel_likelihood_method(A, Kmax, tol=1e-8, tol_fp=1e-4, max_iter=100, \n",
    "                                                  init='random', seed=13)['reject']\n",
    "power_wang = power_wang/N_rep\n",
    "print(f'Empirical power of Wang & Bickel test = {power_wang}')\n",
    "\n",
    "# Run oSQ on data, report estimated power\n",
    "power_SQ = 0\n",
    "for c in tqdm(range(N_rep)): \n",
    "    A = data[c,:,:]\n",
    "    power_SQ += st.SQ_test(A, level)['reject']\n",
    "power_SQ = power_SQ/N_rep\n",
    "print(f'Empirical power of SQ = {power_SQ}')\n",
    "\n",
    "# Run degree on data, report estimated power\n",
    "power_degree = 0\n",
    "for c in tqdm(range(N_rep)): \n",
    "    A = data[c,:,:]\n",
    "    power_degree += st.degree_test(A, level, two_sided=False)['reject']\n",
    "power_degree = power_degree/N_rep\n",
    "print(f'Empirical power of degree = {power_degree}')"
   ]
  },
  {
   "cell_type": "markdown",
   "id": "140f0ac6",
   "metadata": {},
   "source": [
    "### Asymmetric model"
   ]
  },
  {
   "cell_type": "code",
   "execution_count": 29,
   "id": "45ab8f09",
   "metadata": {},
   "outputs": [],
   "source": [
    "# Model parameters\n",
    "n = 500\n",
    "K = 2\n",
    "a = 0.2\n",
    "b = 0.15\n",
    "probs = [0.2,0.8]"
   ]
  },
  {
   "cell_type": "code",
   "execution_count": 30,
   "id": "a6be9984",
   "metadata": {},
   "outputs": [
    {
     "name": "stderr",
     "output_type": "stream",
     "text": [
      "100%|████████████████████████████████████████| 100/100 [00:00<00:00, 116.55it/s]\n"
     ]
    }
   ],
   "source": [
    "# Generate data from SBM\n",
    "np.random.seed(13)\n",
    "data = []\n",
    "for _ in tqdm(range(N_rep)):\n",
    "    adj = dg.sample_alt_adj_matrix_asym(n, K, a, b, probs, exact=False)\n",
    "    data.append(adj)\n",
    "data = np.array(data)"
   ]
  },
  {
   "cell_type": "code",
   "execution_count": 33,
   "id": "8a36a64e",
   "metadata": {},
   "outputs": [
    {
     "name": "stderr",
     "output_type": "stream",
     "text": [
      "100%|█████████████████████████████████████████| 100/100 [00:03<00:00, 29.93it/s]\n"
     ]
    },
    {
     "name": "stdout",
     "output_type": "stream",
     "text": [
      "Empirical power of PET = 0.92\n"
     ]
    },
    {
     "name": "stderr",
     "output_type": "stream",
     "text": [
      "100%|█████████████████████████████████████████| 100/100 [00:21<00:00,  4.67it/s]\n"
     ]
    },
    {
     "name": "stdout",
     "output_type": "stream",
     "text": [
      "Empirical power of Lei test = 0.56\n"
     ]
    },
    {
     "name": "stderr",
     "output_type": "stream",
     "text": [
      "100%|█████████████████████████████████████████| 100/100 [04:59<00:00,  3.00s/it]\n"
     ]
    },
    {
     "name": "stdout",
     "output_type": "stream",
     "text": [
      "Empirical power of Wang & Bickel test = 0.53\n"
     ]
    },
    {
     "name": "stderr",
     "output_type": "stream",
     "text": [
      "100%|█████████████████████████████████████████| 100/100 [00:03<00:00, 31.42it/s]\n"
     ]
    },
    {
     "name": "stdout",
     "output_type": "stream",
     "text": [
      "Empirical power of SQ = 0.33\n"
     ]
    },
    {
     "name": "stderr",
     "output_type": "stream",
     "text": [
      "100%|███████████████████████████████████████| 100/100 [00:00<00:00, 3327.89it/s]"
     ]
    },
    {
     "name": "stdout",
     "output_type": "stream",
     "text": [
      "Empirical power of degree = 0.96\n"
     ]
    },
    {
     "name": "stderr",
     "output_type": "stream",
     "text": [
      "\n"
     ]
    }
   ],
   "source": [
    "# Run PET on data, report estimated power\n",
    "power_PET = 0\n",
    "for c in tqdm(range(N_rep)): \n",
    "    A = data[c,:,:]\n",
    "    power_PET += st.PET_test(A, level)['reject']\n",
    "power_PET = power_PET/N_rep\n",
    "print(f'Empirical power of PET = {power_PET}')\n",
    "\n",
    "# Run test of Lei (2016) on data, report estimated power\n",
    "K0 = 1\n",
    "power_lei = 0\n",
    "for c in tqdm(range(N_rep)): \n",
    "    A = data[c,:,:]\n",
    "    power_lei += st.lei_test(A, K0, level)['reject']\n",
    "power_lei = power_lei/N_rep\n",
    "print(f'Empirical power of Lei test = {power_lei}')\n",
    "\n",
    "# Run model selection approach of Wang & Bickel (2016) on data, report estimated power\n",
    "Kmax = 2\n",
    "power_wang = 0\n",
    "for c in tqdm(range(N_rep)): \n",
    "    A = data[c,:,:]\n",
    "    power_wang += st.wangbickel_likelihood_method(A, Kmax, tol=1e-8, tol_fp=1e-4, max_iter=100, \n",
    "                                                  init='random', seed=13)['reject']\n",
    "power_wang = power_wang/N_rep\n",
    "print(f'Empirical power of Wang & Bickel test = {power_wang}')\n",
    "\n",
    "# Run oSQ on data, report estimated power\n",
    "power_SQ = 0\n",
    "for c in tqdm(range(N_rep)): \n",
    "    A = data[c,:,:]\n",
    "    power_SQ += st.SQ_test(A, level)['reject']\n",
    "power_SQ = power_SQ/N_rep\n",
    "print(f'Empirical power of SQ = {power_SQ}')\n",
    "\n",
    "# Run degree on data, report estimated power\n",
    "power_degree = 0\n",
    "for c in tqdm(range(N_rep)): \n",
    "    A = data[c,:,:]\n",
    "    power_degree += st.degree_test(A, level, two_sided=False)['reject']\n",
    "power_degree = power_degree/N_rep\n",
    "print(f'Empirical power of degree = {power_degree}')"
   ]
  },
  {
   "cell_type": "markdown",
   "id": "0de35377",
   "metadata": {},
   "source": [
    "# Experiment 4.2"
   ]
  },
  {
   "cell_type": "code",
   "execution_count": 64,
   "id": "fda7319e",
   "metadata": {},
   "outputs": [],
   "source": [
    "# Test parameters\n",
    "level = 0.05"
   ]
  },
  {
   "cell_type": "code",
   "execution_count": 65,
   "id": "d59edad3",
   "metadata": {},
   "outputs": [],
   "source": [
    "# Simulation parameters\n",
    "N_rep = 100"
   ]
  },
  {
   "cell_type": "markdown",
   "id": "244784cd",
   "metadata": {},
   "source": [
    "### Symmetric setting"
   ]
  },
  {
   "cell_type": "code",
   "execution_count": 68,
   "id": "838b4423",
   "metadata": {},
   "outputs": [],
   "source": [
    "# Model parameters\n",
    "n = 500\n",
    "K = 2\n",
    "a = 0.2\n",
    "b = 0.05"
   ]
  },
  {
   "cell_type": "code",
   "execution_count": 69,
   "id": "e94e40b4",
   "metadata": {},
   "outputs": [
    {
     "name": "stderr",
     "output_type": "stream",
     "text": [
      "100%|█████████████████████████████████████████████████████████████████████████████████████████████████████████████████████████████████████████████████████████████████████████████| 100/100 [00:01<00:00, 94.55it/s]\n"
     ]
    }
   ],
   "source": [
    "# Generate data from MMSBM\n",
    "reload(dg)\n",
    "np.random.seed(13)\n",
    "data = []\n",
    "for _ in tqdm(range(N_rep)):\n",
    "    adj = dg.sample_MMSBM_alt_adj_matrix_sym(n, K, a, b)\n",
    "    data.append(adj)\n",
    "data = np.array(data)"
   ]
  },
  {
   "cell_type": "code",
   "execution_count": 70,
   "id": "57a1047f",
   "metadata": {},
   "outputs": [
    {
     "name": "stderr",
     "output_type": "stream",
     "text": [
      "100%|█████████████████████████████████████████████████████████████████████████████████████████████████████████████████████████████████████████████████████████████████████████████| 100/100 [00:03<00:00, 25.40it/s]\n"
     ]
    },
    {
     "name": "stdout",
     "output_type": "stream",
     "text": [
      "Empirical power of PET = 1.0\n"
     ]
    },
    {
     "name": "stderr",
     "output_type": "stream",
     "text": [
      "100%|█████████████████████████████████████████████████████████████████████████████████████████████████████████████████████████████████████████████████████████████████████████████| 100/100 [00:23<00:00,  4.26it/s]\n"
     ]
    },
    {
     "name": "stdout",
     "output_type": "stream",
     "text": [
      "Empirical power of Lei test = 1.0\n"
     ]
    },
    {
     "name": "stderr",
     "output_type": "stream",
     "text": [
      "100%|█████████████████████████████████████████████████████████████████████████████████████████████████████████████████████████████████████████████████████████████████████████████| 100/100 [00:27<00:00,  3.69it/s]\n"
     ]
    },
    {
     "name": "stdout",
     "output_type": "stream",
     "text": [
      "Empirical power of Wang & Bickel test = 0.53\n"
     ]
    },
    {
     "name": "stderr",
     "output_type": "stream",
     "text": [
      "100%|█████████████████████████████████████████████████████████████████████████████████████████████████████████████████████████████████████████████████████████████████████████████| 100/100 [00:03<00:00, 26.97it/s]\n"
     ]
    },
    {
     "name": "stdout",
     "output_type": "stream",
     "text": [
      "Empirical power of SQ = 1.0\n"
     ]
    },
    {
     "name": "stderr",
     "output_type": "stream",
     "text": [
      "100%|███████████████████████████████████████████████████████████████████████████████████████████████████████████████████████████████████████████████████████████████████████████| 100/100 [00:00<00:00, 3307.52it/s]"
     ]
    },
    {
     "name": "stdout",
     "output_type": "stream",
     "text": [
      "Empirical power of degree = 0.09\n"
     ]
    },
    {
     "name": "stderr",
     "output_type": "stream",
     "text": [
      "\n"
     ]
    }
   ],
   "source": [
    "# Run PET on data, report estimated power\n",
    "power_PET = 0\n",
    "for c in tqdm(range(N_rep)): \n",
    "    A = data[c,:,:]\n",
    "    power_PET += st.PET_test(A, level)['reject']\n",
    "power_PET = power_PET/N_rep\n",
    "print(f'Empirical power of PET = {power_PET}')\n",
    "\n",
    "# Run test of Lei (2016) on data, report estimated power\n",
    "K0 = 1\n",
    "power_lei = 0\n",
    "for c in tqdm(range(N_rep)): \n",
    "    A = data[c,:,:]\n",
    "    power_lei += st.lei_test(A, K0, level)['reject']\n",
    "power_lei = power_lei/N_rep\n",
    "print(f'Empirical power of Lei test = {power_lei}')\n",
    "\n",
    "# Run model selection approach of Wang & Bickel (2016) on data, report estimated power\n",
    "Kmax = 2\n",
    "power_wang = 0\n",
    "for c in tqdm(range(N_rep)): \n",
    "    A = data[c,:,:]\n",
    "    power_wang += st.wangbickel_likelihood_method(A, Kmax, tol=1e-8, tol_fp=1e-4, max_iter=100, \n",
    "                                                  init='spectral', seed=13)['reject']\n",
    "power_wang = power_wang/N_rep\n",
    "print(f'Empirical power of Wang & Bickel test = {power_wang}')\n",
    "\n",
    "# Run oSQ on data, report estimated power\n",
    "power_SQ = 0\n",
    "for c in tqdm(range(N_rep)): \n",
    "    A = data[c,:,:]\n",
    "    power_SQ += st.SQ_test(A, level)['reject']\n",
    "power_SQ = power_SQ/N_rep\n",
    "print(f'Empirical power of SQ = {power_SQ}')\n",
    "\n",
    "# Run degree on data, report estimated power\n",
    "power_degree = 0\n",
    "for c in tqdm(range(N_rep)): \n",
    "    A = data[c,:,:]\n",
    "    power_degree += st.degree_test(A, level, two_sided=False)['reject']\n",
    "power_degree = power_degree/N_rep\n",
    "print(f'Empirical power of degree = {power_degree}')"
   ]
  },
  {
   "cell_type": "markdown",
   "id": "4d2d011d",
   "metadata": {},
   "source": [
    "### Asymmetric setting (rank-1)"
   ]
  },
  {
   "cell_type": "code",
   "execution_count": 71,
   "id": "8f4cd3cd",
   "metadata": {},
   "outputs": [],
   "source": [
    "# Model parameters\n",
    "n = 500\n",
    "K = 2\n",
    "b = 1\n",
    "c = 0.15 \n",
    "a = b+1/n**(1/5)\n",
    "eta = np.concatenate((np.repeat(a,int(K/2)),np.repeat(b,int(K/2)))).reshape((K,1))\n",
    "eta = eta/norm(eta)\n",
    "# probs = np.ones(K)/K \n",
    "# probs = np.random.uniform(0,10,K)\n",
    "probs = np.array([0.4,0.6])"
   ]
  },
  {
   "cell_type": "code",
   "execution_count": 72,
   "id": "f21b10ee",
   "metadata": {},
   "outputs": [
    {
     "name": "stderr",
     "output_type": "stream",
     "text": [
      "100%|████████████████████████████████████████████████████████████████████████████████████████████████████████████████████████████████████████████████████████████████████████████| 100/100 [00:00<00:00, 100.61it/s]\n"
     ]
    }
   ],
   "source": [
    "# Generate data from MMSBM\n",
    "np.random.seed(13)\n",
    "data = []\n",
    "for _ in tqdm(range(N_rep)):\n",
    "    adj = dg.sample_MMSBM_alt_adj_matrix_asym2(n, K, eta, c, probs)\n",
    "    data.append(adj)\n",
    "data = np.array(data)"
   ]
  },
  {
   "cell_type": "code",
   "execution_count": 74,
   "id": "e5ffb858",
   "metadata": {},
   "outputs": [
    {
     "name": "stderr",
     "output_type": "stream",
     "text": [
      "100%|█████████████████████████████████████████████████████████████████████████████████████████████████████████████████████████████████████████████████████████████████████████████| 100/100 [00:03<00:00, 27.53it/s]\n"
     ]
    },
    {
     "name": "stdout",
     "output_type": "stream",
     "text": [
      "Empirical power of PET = 0.98\n"
     ]
    },
    {
     "name": "stderr",
     "output_type": "stream",
     "text": [
      "100%|█████████████████████████████████████████████████████████████████████████████████████████████████████████████████████████████████████████████████████████████████████████████| 100/100 [00:20<00:00,  4.97it/s]\n"
     ]
    },
    {
     "name": "stdout",
     "output_type": "stream",
     "text": [
      "Empirical power of Lei test = 0.31\n"
     ]
    },
    {
     "name": "stderr",
     "output_type": "stream",
     "text": [
      "100%|█████████████████████████████████████████████████████████████████████████████████████████████████████████████████████████████████████████████████████████████████████████████| 100/100 [03:07<00:00,  1.88s/it]\n"
     ]
    },
    {
     "name": "stdout",
     "output_type": "stream",
     "text": [
      "Empirical power of Wang & Bickel test = 0.49\n"
     ]
    },
    {
     "name": "stderr",
     "output_type": "stream",
     "text": [
      "100%|█████████████████████████████████████████████████████████████████████████████████████████████████████████████████████████████████████████████████████████████████████████████| 100/100 [00:03<00:00, 27.58it/s]\n"
     ]
    },
    {
     "name": "stdout",
     "output_type": "stream",
     "text": [
      "Empirical power of SQ = 0.03\n"
     ]
    },
    {
     "name": "stderr",
     "output_type": "stream",
     "text": [
      "100%|███████████████████████████████████████████████████████████████████████████████████████████████████████████████████████████████████████████████████████████████████████████| 100/100 [00:00<00:00, 3266.36it/s]"
     ]
    },
    {
     "name": "stdout",
     "output_type": "stream",
     "text": [
      "Empirical power of degree = 0.99\n"
     ]
    },
    {
     "name": "stderr",
     "output_type": "stream",
     "text": [
      "\n"
     ]
    }
   ],
   "source": [
    "# Run PET on data, report estimated power\n",
    "power_PET = 0\n",
    "for c in tqdm(range(N_rep)): \n",
    "    A = data[c,:,:]\n",
    "    power_PET += st.PET_test(A, level)['reject']\n",
    "power_PET = power_PET/N_rep\n",
    "print(f'Empirical power of PET = {power_PET}')\n",
    "\n",
    "# Run test of Lei (2016) on data, report estimated power\n",
    "K0 = 1\n",
    "power_lei = 0\n",
    "for c in tqdm(range(N_rep)): \n",
    "    A = data[c,:,:]\n",
    "    power_lei += st.lei_test(A, K0, level)['reject']\n",
    "power_lei = power_lei/N_rep\n",
    "print(f'Empirical power of Lei test = {power_lei}')\n",
    "\n",
    "# Run model selection approach of Wang & Bickel (2016) on data, report estimated power\n",
    "Kmax = 2\n",
    "power_wang = 0\n",
    "for c in tqdm(range(N_rep)): \n",
    "    A = data[c,:,:]\n",
    "    power_wang += st.wangbickel_likelihood_method(A, Kmax, tol=1e-8, tol_fp=1e-4, max_iter=100, \n",
    "                                                  init='random', seed=13)['reject']\n",
    "power_wang = power_wang/N_rep\n",
    "print(f'Empirical power of Wang & Bickel test = {power_wang}')\n",
    "\n",
    "# Run oSQ on data, report estimated power\n",
    "power_SQ = 0\n",
    "for c in tqdm(range(N_rep)): \n",
    "    A = data[c,:,:]\n",
    "    power_SQ += st.SQ_test(A, level)['reject']\n",
    "power_SQ = power_SQ/N_rep\n",
    "print(f'Empirical power of SQ = {power_SQ}')\n",
    "\n",
    "# Run degree on data, report estimated power\n",
    "power_degree = 0\n",
    "for c in tqdm(range(N_rep)): \n",
    "    A = data[c,:,:]\n",
    "    power_degree += st.degree_test(A, level, two_sided=False)['reject']\n",
    "power_degree = power_degree/N_rep\n",
    "print(f'Empirical power of degree = {power_degree}')"
   ]
  },
  {
   "cell_type": "markdown",
   "id": "253f16d6",
   "metadata": {},
   "source": [
    "### Asymmetric setting"
   ]
  },
  {
   "cell_type": "code",
   "execution_count": 37,
   "id": "91a785ed",
   "metadata": {},
   "outputs": [],
   "source": [
    "# Model parameters\n",
    "n = 500\n",
    "K = 2\n",
    "a = 0.2\n",
    "b = 0.15\n",
    "probs = [0.2,0.8]"
   ]
  },
  {
   "cell_type": "code",
   "execution_count": 38,
   "id": "3503037b",
   "metadata": {},
   "outputs": [
    {
     "name": "stderr",
     "output_type": "stream",
     "text": [
      "100%|█████████████████████████████████████████| 100/100 [00:01<00:00, 87.71it/s]\n"
     ]
    }
   ],
   "source": [
    "# Generate data from MMSBM\n",
    "reload(dg)\n",
    "np.random.seed(13)\n",
    "data = []\n",
    "for _ in tqdm(range(N_rep)):\n",
    "    adj = dg.sample_MMSBM_alt_adj_matrix_asym(n, K, a, b, probs)\n",
    "    data.append(adj)\n",
    "data = np.array(data)"
   ]
  },
  {
   "cell_type": "code",
   "execution_count": 39,
   "id": "fbd29c7b",
   "metadata": {},
   "outputs": [
    {
     "name": "stderr",
     "output_type": "stream",
     "text": [
      "100%|█████████████████████████████████████████| 100/100 [00:03<00:00, 31.94it/s]\n"
     ]
    },
    {
     "name": "stdout",
     "output_type": "stream",
     "text": [
      "Empirical power of PET = 0.76\n"
     ]
    },
    {
     "name": "stderr",
     "output_type": "stream",
     "text": [
      "100%|█████████████████████████████████████████| 100/100 [00:19<00:00,  5.10it/s]\n"
     ]
    },
    {
     "name": "stdout",
     "output_type": "stream",
     "text": [
      "Empirical power of Lei test = 0.1\n"
     ]
    },
    {
     "name": "stderr",
     "output_type": "stream",
     "text": [
      "100%|█████████████████████████████████████████| 100/100 [03:37<00:00,  2.18s/it]\n"
     ]
    },
    {
     "name": "stdout",
     "output_type": "stream",
     "text": [
      "Empirical power of Wang & Bickel test = 0.59\n"
     ]
    },
    {
     "name": "stderr",
     "output_type": "stream",
     "text": [
      "100%|█████████████████████████████████████████| 100/100 [00:03<00:00, 33.15it/s]\n"
     ]
    },
    {
     "name": "stdout",
     "output_type": "stream",
     "text": [
      "Empirical power of SQ = 0.06\n"
     ]
    },
    {
     "name": "stderr",
     "output_type": "stream",
     "text": [
      "100%|███████████████████████████████████████| 100/100 [00:00<00:00, 3344.61it/s]"
     ]
    },
    {
     "name": "stdout",
     "output_type": "stream",
     "text": [
      "Empirical power of degree = 0.87\n"
     ]
    },
    {
     "name": "stderr",
     "output_type": "stream",
     "text": [
      "\n"
     ]
    }
   ],
   "source": [
    "# Run PET on data, report estimated power\n",
    "power_PET = 0\n",
    "for c in tqdm(range(N_rep)): \n",
    "    A = data[c,:,:]\n",
    "    power_PET += st.PET_test(A, level)['reject']\n",
    "power_PET = power_PET/N_rep\n",
    "print(f'Empirical power of PET = {power_PET}')\n",
    "\n",
    "# Run test of Lei (2016) on data, report estimated power\n",
    "K0 = 1\n",
    "power_lei = 0\n",
    "for c in tqdm(range(N_rep)): \n",
    "    A = data[c,:,:]\n",
    "    power_lei += st.lei_test(A, K0, level)['reject']\n",
    "power_lei = power_lei/N_rep\n",
    "print(f'Empirical power of Lei test = {power_lei}')\n",
    "\n",
    "# Run model selection approach of Wang & Bickel (2016) on data, report estimated power\n",
    "Kmax = 2\n",
    "power_wang = 0\n",
    "for c in tqdm(range(N_rep)): \n",
    "    A = data[c,:,:]\n",
    "    power_wang += st.wangbickel_likelihood_method(A, Kmax, tol=1e-8, tol_fp=1e-4, max_iter=100, \n",
    "                                                  init='random', seed=13)['reject']\n",
    "power_wang = power_wang/N_rep\n",
    "print(f'Empirical power of Wang & Bickel test = {power_wang}')\n",
    "\n",
    "# Run oSQ on data, report estimated power\n",
    "power_SQ = 0\n",
    "for c in tqdm(range(N_rep)): \n",
    "    A = data[c,:,:]\n",
    "    power_SQ += st.SQ_test(A, level)['reject']\n",
    "power_SQ = power_SQ/N_rep\n",
    "print(f'Empirical power of SQ = {power_SQ}')\n",
    "\n",
    "# Run degree on data, report estimated power\n",
    "power_degree = 0\n",
    "for c in tqdm(range(N_rep)): \n",
    "    A = data[c,:,:]\n",
    "    power_degree += st.degree_test(A, level, two_sided=False)['reject']\n",
    "power_degree = power_degree/N_rep\n",
    "print(f'Empirical power of degree = {power_degree}')"
   ]
  },
  {
   "cell_type": "code",
   "execution_count": null,
   "id": "fa5ee9ca",
   "metadata": {},
   "outputs": [],
   "source": []
  }
 ],
 "metadata": {
  "kernelspec": {
   "display_name": "Python 3 (ipykernel)",
   "language": "python",
   "name": "python3"
  },
  "language_info": {
   "codemirror_mode": {
    "name": "ipython",
    "version": 3
   },
   "file_extension": ".py",
   "mimetype": "text/x-python",
   "name": "python",
   "nbconvert_exporter": "python",
   "pygments_lexer": "ipython3",
   "version": "3.9.7"
  }
 },
 "nbformat": 4,
 "nbformat_minor": 5
}
