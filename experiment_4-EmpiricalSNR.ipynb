{
 "cells": [
  {
   "cell_type": "code",
   "execution_count": 21,
   "id": "automatic-donor",
   "metadata": {},
   "outputs": [],
   "source": [
    "from importlib import reload\n",
    "import numpy as np\n",
    "from numpy import transpose, trace, multiply, power, dot\n",
    "from numpy.linalg import multi_dot, matrix_power, norm\n",
    "import scipy.stats as ss\n",
    "from scipy.special import comb\n",
    "from sklearn.cluster import KMeans\n",
    "import math\n",
    "import pandas as pd\n",
    "import itertools\n",
    "import time\n",
    "from tqdm import tqdm\n",
    "import seaborn as sns\n",
    "sns.set()\n",
    "import matplotlib.pyplot as plt\n",
    "import pickle\n",
    "from TracyWidom import TracyWidom\n",
    "import data_gen as dg\n",
    "import stat_test as st\n",
    "import visualizations as viz"
   ]
  },
  {
   "cell_type": "code",
   "execution_count": 22,
   "id": "vietnamese-oxide",
   "metadata": {},
   "outputs": [
    {
     "data": {
      "text/plain": [
       "<module 'visualizations' from '/Users/louiscam/Dropbox (MIT)/SBMtesting/Simulations-Python/visualizations.py'>"
      ]
     },
     "execution_count": 22,
     "metadata": {},
     "output_type": "execute_result"
    }
   ],
   "source": [
    "# Reload modules in case of modifications\n",
    "reload(dg)\n",
    "reload(st)\n",
    "reload(viz)"
   ]
  },
  {
   "cell_type": "markdown",
   "id": "69c29ff2",
   "metadata": {},
   "source": [
    "# Compare empirical SNR of PET and Lei (2016)"
   ]
  },
  {
   "cell_type": "code",
   "execution_count": 23,
   "id": "67207866",
   "metadata": {},
   "outputs": [],
   "source": [
    "# Simulation parameters\n",
    "N_rep = 100\n",
    "level = 0.05"
   ]
  },
  {
   "cell_type": "markdown",
   "id": "34e66850",
   "metadata": {},
   "source": [
    "### Null setting"
   ]
  },
  {
   "cell_type": "code",
   "execution_count": 24,
   "id": "77984ecd",
   "metadata": {},
   "outputs": [],
   "source": [
    "# Model parameters\n",
    "n = 500\n",
    "K = 1\n",
    "a = 0.2"
   ]
  },
  {
   "cell_type": "code",
   "execution_count": 25,
   "id": "212e9d78",
   "metadata": {},
   "outputs": [
    {
     "name": "stderr",
     "output_type": "stream",
     "text": [
      "100%|████████████████████████████████████████████████████████████████████████████████████████████████████████████████████████████████████████████████████████████████████████████| 100/100 [00:00<00:00, 251.70it/s]\n"
     ]
    }
   ],
   "source": [
    "# Generate data from SBM\n",
    "np.random.seed(13)\n",
    "data = []\n",
    "for _ in tqdm(range(N_rep)):\n",
    "    adj = dg.sample_null_adj_mat(n, a)\n",
    "    data.append(adj)\n",
    "data = np.array(data)"
   ]
  },
  {
   "cell_type": "code",
   "execution_count": 26,
   "id": "abab34c6",
   "metadata": {},
   "outputs": [
    {
     "name": "stderr",
     "output_type": "stream",
     "text": [
      "100%|█████████████████████████████████████████████████████████████████████████████████████████████████████████████████████████████████████████████████████████████████████████████| 100/100 [00:03<00:00, 27.18it/s]\n",
      "100%|█████████████████████████████████████████████████████████████████████████████████████████████████████████████████████████████████████████████████████████████████████████████| 100/100 [00:24<00:00,  4.16it/s]\n"
     ]
    }
   ],
   "source": [
    "# Run PET on data\n",
    "stats_PET = []\n",
    "for c in tqdm(range(N_rep)): \n",
    "    A = data[c,:,:]\n",
    "    stats_PET.append(st.PET_test(A, level)['test_stat'])\n",
    "null_mean_PET = np.mean(stats_PET)\n",
    "null_sd_PET = np.std(stats_PET)\n",
    "\n",
    "# Run test of Lei (2016) on data\n",
    "K0 = 1\n",
    "stats_lei = []\n",
    "for c in tqdm(range(N_rep)): \n",
    "    A = data[c,:,:]\n",
    "    stats_lei.append(st.lei_test(A, K0, level)['test_stat'])\n",
    "null_mean_lei = np.mean(stats_lei)\n",
    "null_sd_lei = np.std(stats_lei)"
   ]
  },
  {
   "cell_type": "markdown",
   "id": "15ac08a4",
   "metadata": {},
   "source": [
    "### Symmetric alternative setting"
   ]
  },
  {
   "cell_type": "code",
   "execution_count": 27,
   "id": "88044cd6",
   "metadata": {},
   "outputs": [],
   "source": [
    "# Model parameters\n",
    "n = 500\n",
    "K = 2\n",
    "a = 0.2\n",
    "b = 0.05"
   ]
  },
  {
   "cell_type": "code",
   "execution_count": 28,
   "id": "c2fe631e",
   "metadata": {},
   "outputs": [
    {
     "name": "stderr",
     "output_type": "stream",
     "text": [
      "100%|████████████████████████████████████████████████████████████████████████████████████████████████████████████████████████████████████████████████████████████████████████████| 100/100 [00:00<00:00, 152.80it/s]\n"
     ]
    }
   ],
   "source": [
    "# Generate data from SBM\n",
    "np.random.seed(13)\n",
    "data = []\n",
    "for _ in tqdm(range(N_rep)):\n",
    "    adj = dg.sample_alt_adj_matrix_sym(n, K, a, b, exact=True)\n",
    "    data.append(adj)\n",
    "data = np.array(data)"
   ]
  },
  {
   "cell_type": "code",
   "execution_count": 29,
   "id": "06fd93df",
   "metadata": {},
   "outputs": [
    {
     "name": "stderr",
     "output_type": "stream",
     "text": [
      "100%|█████████████████████████████████████████████████████████████████████████████████████████████████████████████████████████████████████████████████████████████████████████████| 100/100 [00:03<00:00, 26.25it/s]\n",
      "100%|█████████████████████████████████████████████████████████████████████████████████████████████████████████████████████████████████████████████████████████████████████████████| 100/100 [00:22<00:00,  4.41it/s]\n"
     ]
    }
   ],
   "source": [
    "# Run PET on data\n",
    "stats_PET = []\n",
    "for c in tqdm(range(N_rep)): \n",
    "    A = data[c,:,:]\n",
    "    stats_PET.append(st.PET_test(A, level)['test_stat'])\n",
    "alt_sym_mean_PET = np.mean(stats_PET)\n",
    "alt_sym_sd_PET = np.std(stats_PET)\n",
    "\n",
    "# Run test of Lei (2016) on data\n",
    "K0 = 1\n",
    "stats_lei = []\n",
    "for c in tqdm(range(N_rep)): \n",
    "    A = data[c,:,:]\n",
    "    stats_lei.append(st.lei_test(A, K0, level)['test_stat'])\n",
    "alt_sym_mean_lei = np.mean(stats_lei)\n",
    "alt_sym_sd_lei = np.std(stats_lei)"
   ]
  },
  {
   "cell_type": "markdown",
   "id": "518127cf",
   "metadata": {},
   "source": [
    "### Asymmetric alternative setting"
   ]
  },
  {
   "cell_type": "code",
   "execution_count": 14,
   "id": "eb545148",
   "metadata": {},
   "outputs": [],
   "source": [
    "# Model parameters\n",
    "n = 500\n",
    "K = 2\n",
    "b = 1\n",
    "c = 1 \n",
    "a = b+1/n**(1/2)\n",
    "eta = np.concatenate((np.repeat(a,int(K/2)),np.repeat(b,int(K/2)))).reshape((K,1))\n",
    "eta = eta/norm(eta)"
   ]
  },
  {
   "cell_type": "code",
   "execution_count": 15,
   "id": "367c7f2a",
   "metadata": {},
   "outputs": [
    {
     "name": "stderr",
     "output_type": "stream",
     "text": [
      "100%|████████████████████████████████████████████████████████████████████████████████████████████████████████████████████████████████████████████████████████████████████████████| 100/100 [00:00<00:00, 115.37it/s]\n"
     ]
    }
   ],
   "source": [
    "# Generate data from SBM\n",
    "np.random.seed(13)\n",
    "data = []\n",
    "for _ in tqdm(range(N_rep)):\n",
    "    adj = dg.sample_alt_adj_matrix_rank1(n, K, eta, c, exact=True)\n",
    "    data.append(adj)\n",
    "data = np.array(data)"
   ]
  },
  {
   "cell_type": "code",
   "execution_count": 17,
   "id": "7653c6f7",
   "metadata": {},
   "outputs": [
    {
     "name": "stderr",
     "output_type": "stream",
     "text": [
      "100%|█████████████████████████████████████████████████████████████████████████████████████████████████████████████████████████████████████████████████████████████████████████████| 100/100 [00:03<00:00, 28.74it/s]\n",
      "100%|█████████████████████████████████████████████████████████████████████████████████████████████████████████████████████████████████████████████████████████████████████████████| 100/100 [00:22<00:00,  4.45it/s]\n"
     ]
    }
   ],
   "source": [
    "# Run PET on data\n",
    "stats_PET = []\n",
    "for c in tqdm(range(N_rep)): \n",
    "    A = data[c,:,:]\n",
    "    stats_PET.append(st.PET_test(A, level)['test_stat'])\n",
    "alt_asym_mean_PET = np.mean(stats_PET)\n",
    "alt_asym_sd_PET = np.std(stats_PET)\n",
    "\n",
    "# Run test of Lei (2016) on data\n",
    "K0 = 1\n",
    "stats_lei = []\n",
    "for c in tqdm(range(N_rep)): \n",
    "    A = data[c,:,:]\n",
    "    stats_lei.append(st.lei_test(A, K0, level)['test_stat'])\n",
    "alt_asym_mean_lei = np.mean(stats_lei)\n",
    "alt_asym_sd_lei = np.std(stats_lei)"
   ]
  },
  {
   "cell_type": "markdown",
   "id": "4f07626e",
   "metadata": {},
   "source": [
    "### Compute SNR"
   ]
  },
  {
   "cell_type": "code",
   "execution_count": 30,
   "id": "b7679a42",
   "metadata": {},
   "outputs": [
    {
     "name": "stdout",
     "output_type": "stream",
     "text": [
      "Empirical SNR of PET (symmetric alternative) = 30678.93387127697\n",
      "Empirical SNR of Lei (symmetric alternative) = 174.33769823570998\n",
      "Empirical SNR of PET (asymmetric alternative) = 7.018241859310978\n",
      "Empirical SNR of Lei (asymmetric alternative) = 0.1682732702869609\n"
     ]
    }
   ],
   "source": [
    "# Empirical SNR\n",
    "snr_PET_sym = np.abs(alt_sym_mean_PET-null_mean_PET)/null_sd_PET\n",
    "snr_lei_sym = np.abs(alt_sym_mean_lei-null_mean_lei)/null_sd_lei\n",
    "snr_PET_asym = np.abs(alt_asym_mean_PET-null_mean_PET)/null_sd_PET\n",
    "snr_lei_asym = np.abs(alt_asym_mean_lei-null_mean_lei)/null_sd_lei\n",
    "print(f'Empirical SNR of PET (symmetric alternative) = {snr_PET_sym}')\n",
    "print(f'Empirical SNR of Lei (symmetric alternative) = {snr_lei_sym}')\n",
    "print(f'Empirical SNR of PET (asymmetric alternative) = {snr_PET_asym}')\n",
    "print(f'Empirical SNR of Lei (asymmetric alternative) = {snr_lei_asym}')"
   ]
  },
  {
   "cell_type": "code",
   "execution_count": null,
   "id": "26980f6f",
   "metadata": {},
   "outputs": [],
   "source": []
  },
  {
   "cell_type": "code",
   "execution_count": null,
   "id": "52264a09",
   "metadata": {},
   "outputs": [],
   "source": []
  }
 ],
 "metadata": {
  "kernelspec": {
   "display_name": "Python 3 (ipykernel)",
   "language": "python",
   "name": "python3"
  },
  "language_info": {
   "codemirror_mode": {
    "name": "ipython",
    "version": 3
   },
   "file_extension": ".py",
   "mimetype": "text/x-python",
   "name": "python",
   "nbconvert_exporter": "python",
   "pygments_lexer": "ipython3",
   "version": "3.9.7"
  }
 },
 "nbformat": 4,
 "nbformat_minor": 5
}
