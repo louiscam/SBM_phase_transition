{
 "cells": [
  {
   "cell_type": "code",
   "execution_count": 64,
   "id": "automatic-donor",
   "metadata": {},
   "outputs": [],
   "source": [
    "from importlib import reload\n",
    "import numpy as np\n",
    "from numpy import transpose, trace, multiply, power, dot\n",
    "from numpy.linalg import multi_dot, matrix_power, norm\n",
    "import scipy.stats as ss\n",
    "from scipy.special import comb\n",
    "import math\n",
    "import pandas as pd\n",
    "import time\n",
    "from tqdm import tqdm\n",
    "import seaborn as sns\n",
    "sns.set()\n",
    "import matplotlib.pyplot as plt\n",
    "import pickle\n",
    "import data_gen as dg\n",
    "import stat_test as st\n",
    "import visualizations as viz"
   ]
  },
  {
   "cell_type": "code",
   "execution_count": 65,
   "id": "vietnamese-oxide",
   "metadata": {},
   "outputs": [
    {
     "data": {
      "text/plain": [
       "<module 'visualizations' from '/Users/louis.cammarata/Dropbox (MIT)/SBMtesting/Simulations-Python/visualizations.py'>"
      ]
     },
     "execution_count": 65,
     "metadata": {},
     "output_type": "execute_result"
    }
   ],
   "source": [
    "# Reload modules in case of modifications\n",
    "reload(dg)\n",
    "reload(st)\n",
    "reload(viz)"
   ]
  },
  {
   "cell_type": "markdown",
   "id": "outstanding-ethnic",
   "metadata": {},
   "source": [
    "# Case 1: Phase transition in the symmetric case by varying n"
   ]
  },
  {
   "cell_type": "code",
   "execution_count": 68,
   "id": "unusual-circle",
   "metadata": {},
   "outputs": [],
   "source": [
    "# Test parameters\n",
    "N_rep = 100\n",
    "level = 0.05"
   ]
  },
  {
   "cell_type": "code",
   "execution_count": 69,
   "id": "impressive-arctic",
   "metadata": {},
   "outputs": [],
   "source": [
    "# Data generation parameters\n",
    "K = 5\n",
    "exact = True\n",
    "a = 0.2\n",
    "b = 0.1"
   ]
  },
  {
   "cell_type": "code",
   "execution_count": 74,
   "id": "nutritional-standing",
   "metadata": {},
   "outputs": [],
   "source": [
    "# Initialize error dataframes\n",
    "range_n = np.arange(10,800,50)\n",
    "power_PET = np.zeros(len(range_n))"
   ]
  },
  {
   "cell_type": "raw",
   "id": "plastic-tournament",
   "metadata": {},
   "source": [
    "# Run simulations\n",
    "np.random.seed(seed=13)\n",
    "for k in tqdm(range(N_rep)):\n",
    "    time.sleep(0.01)\n",
    "    for i in range(len(range_n)):\n",
    "        A = dg.sample_alt_adj_matrix_sym(range_n[i], K, a, b, exact)\n",
    "        power_PET[i] += st.PET_test(A, level)['reject']\n",
    "power_PET = power_PET/N_rep"
   ]
  },
  {
   "cell_type": "raw",
   "id": "retired-linux",
   "metadata": {},
   "source": [
    "# Save to pickle\n",
    "pickle.dump(power_PET, open('exp3_case1_n_power_PET.pkl', 'wb'))"
   ]
  },
  {
   "cell_type": "code",
   "execution_count": 79,
   "id": "latter-balloon",
   "metadata": {},
   "outputs": [],
   "source": [
    "# Read pickles\n",
    "power_PET = pickle.load(open('exp3_case1_n_power_PET.pkl', 'rb'))"
   ]
  },
  {
   "cell_type": "code",
   "execution_count": 80,
   "id": "organizational-glance",
   "metadata": {},
   "outputs": [],
   "source": [
    "# Compute upper and lower confidence bound on power estimate\n",
    "std_error = power_PET*(1-power_PET)\n",
    "q = ss.norm.ppf(q=1-level/2, loc=0, scale=1)\n",
    "ucb = power_PET+std_error*q/math.sqrt(N_rep)\n",
    "lcb = power_PET-std_error*q/math.sqrt(N_rep)"
   ]
  },
  {
   "cell_type": "code",
   "execution_count": 82,
   "id": "responsible-suffering",
   "metadata": {},
   "outputs": [
    {
     "data": {
      "image/png": "[encoded data removed]",
      "text/plain": [
       "<Figure size 432x288 with 1 Axes>"
      ]
     },
     "metadata": {},
     "output_type": "display_data"
    }
   ],
   "source": [
    "# Plot power as a function of phase transition parameter\n",
    "range_rho = (a-b)**2/(K*a+K*(K-1)*b)*range_n\n",
    "fig, ax = plt.subplots()\n",
    "ax.plot(range_rho,power_PET)\n",
    "ax.fill_between(range_rho, lcb, ucb, color='b', alpha=.1)\n",
    "ax.set_xlabel('PET signal strength')\n",
    "ax.set_ylabel('power of PET')\n",
    "# Save figure to file\n",
    "plt.savefig('exp3_case1_n_powerplot_rho.pdf', format='pdf')"
   ]
  },
  {
   "cell_type": "markdown",
   "id": "soviet-submission",
   "metadata": {},
   "source": [
    "# Case 1: Phase transition in the symmetric case by varying b"
   ]
  },
  {
   "cell_type": "code",
   "execution_count": 140,
   "id": "occupied-czech",
   "metadata": {},
   "outputs": [],
   "source": [
    "# Test parameters\n",
    "N_rep = 500\n",
    "level = 0.05"
   ]
  },
  {
   "cell_type": "code",
   "execution_count": 141,
   "id": "metropolitan-progressive",
   "metadata": {},
   "outputs": [],
   "source": [
    "# Data generation parameters\n",
    "K = 5\n",
    "exact = True\n",
    "a = 0.2\n",
    "n = 300"
   ]
  },
  {
   "cell_type": "code",
   "execution_count": 142,
   "id": "innovative-complexity",
   "metadata": {},
   "outputs": [],
   "source": [
    "# Initialize error dataframes\n",
    "range_b = a-np.arange(0,0.15,0.01)\n",
    "power_PET = np.zeros(len(range_b))"
   ]
  },
  {
   "cell_type": "code",
   "execution_count": 143,
   "id": "incorporate-checkout",
   "metadata": {},
   "outputs": [
    {
     "name": "stderr",
     "output_type": "stream",
     "text": [
      "100%|██████████| 500/500 [01:57<00:00,  4.25it/s]\n"
     ]
    }
   ],
   "source": [
    "# Run simulations\n",
    "np.random.seed(seed=13)\n",
    "for k in tqdm(range(N_rep)):\n",
    "    time.sleep(0.01)\n",
    "    for i in range(len(range_b)):\n",
    "        A = dg.sample_alt_adj_matrix_sym(n, K, a, range_b[i], exact)\n",
    "        power_PET[i] += st.PET_test(A, level)['reject']\n",
    "power_PET = power_PET/N_rep"
   ]
  },
  {
   "cell_type": "code",
   "execution_count": 144,
   "id": "improving-tolerance",
   "metadata": {},
   "outputs": [],
   "source": [
    "# Save to pickle\n",
    "pickle.dump(power_PET, open('exp3_case1_b_power_PET.pkl', 'wb'))"
   ]
  },
  {
   "cell_type": "code",
   "execution_count": 145,
   "id": "lonely-version",
   "metadata": {},
   "outputs": [],
   "source": [
    "# Read pickles\n",
    "power_PET = pickle.load(open('exp3_case1_b_power_PET.pkl', 'rb'))"
   ]
  },
  {
   "cell_type": "code",
   "execution_count": 146,
   "id": "suitable-potential",
   "metadata": {},
   "outputs": [],
   "source": [
    "# Compute upper and lower confidence bound on power estimate\n",
    "std_error = power_PET*(1-power_PET)\n",
    "q = ss.norm.ppf(q=1-level/2, loc=0, scale=1)\n",
    "ucb = power_PET+std_error*q/math.sqrt(N_rep)\n",
    "lcb = power_PET-std_error*q/math.sqrt(N_rep)"
   ]
  },
  {
   "cell_type": "code",
   "execution_count": 147,
   "id": "molecular-klein",
   "metadata": {},
   "outputs": [
    {
     "data": {
      "image/png": "[encoded data removed]",
      "text/plain": [
       "<Figure size 432x288 with 1 Axes>"
      ]
     },
     "metadata": {},
     "output_type": "display_data"
    }
   ],
   "source": [
    "# Plot power as a function of phase transition parameter\n",
    "range_rho = (a-range_b)**2/(K*a+K*(K-1)*range_b)*n\n",
    "fig, ax = plt.subplots()\n",
    "ax.plot(range_rho,power_PET)\n",
    "ax.fill_between(range_rho, lcb, ucb, color='b', alpha=.1)\n",
    "ax.set_xlabel('PET signal strength')\n",
    "ax.set_ylabel('power of PET')\n",
    "# Save figure to file\n",
    "plt.savefig('exp3_case1_b_powerplot_rho.pdf', format='pdf')"
   ]
  },
  {
   "cell_type": "markdown",
   "id": "conventional-format",
   "metadata": {},
   "source": [
    "# Case 2: phase transition in the rank-1 case by varying n"
   ]
  },
  {
   "cell_type": "code",
   "execution_count": 192,
   "id": "selected-stanford",
   "metadata": {},
   "outputs": [],
   "source": [
    "# Test parameters\n",
    "N_rep = 500\n",
    "level = 0.05"
   ]
  },
  {
   "cell_type": "code",
   "execution_count": 193,
   "id": "abandoned-fitting",
   "metadata": {},
   "outputs": [],
   "source": [
    "# Data generation parameters\n",
    "K = 2\n",
    "exact = True\n",
    "b = 1\n",
    "c = 0.06"
   ]
  },
  {
   "cell_type": "code",
   "execution_count": 194,
   "id": "sudden-lewis",
   "metadata": {},
   "outputs": [],
   "source": [
    "# Initialize error dataframes\n",
    "range_n = np.arange(50,1100,50)\n",
    "power_PET = np.zeros(len(range_n))"
   ]
  },
  {
   "cell_type": "code",
   "execution_count": null,
   "id": "adjacent-insert",
   "metadata": {},
   "outputs": [
    {
     "name": "stderr",
     "output_type": "stream",
     "text": [
      " 27%|██▋       | 134/500 [05:58<16:01,  2.63s/it]"
     ]
    }
   ],
   "source": [
    "# Run simulations\n",
    "np.random.seed(seed=13)\n",
    "for k in tqdm(range(N_rep)):\n",
    "    time.sleep(0.01)\n",
    "    for i in range(len(range_n)):\n",
    "        n = range_n[i]\n",
    "        a = b+1/n**0.25\n",
    "        eta = np.concatenate((np.repeat(a,int(K/2)),np.repeat(b,int(K/2)))).reshape((K,1))\n",
    "        eta = eta/norm(eta)\n",
    "        A = dg.sample_alt_adj_matrix_rank1(n, K, eta, c, exact)\n",
    "        power_PET[i] += st.PET_test(A, level)['reject']\n",
    "power_PET = power_PET/N_rep"
   ]
  },
  {
   "cell_type": "code",
   "execution_count": 188,
   "id": "sublime-carter",
   "metadata": {},
   "outputs": [],
   "source": [
    "# Save to pickle\n",
    "pickle.dump(power_PET, open('exp3_case2_n_power_PET.pkl', 'wb'))"
   ]
  },
  {
   "cell_type": "code",
   "execution_count": 189,
   "id": "incorrect-aggregate",
   "metadata": {},
   "outputs": [],
   "source": [
    "# Read pickles\n",
    "power_PET = pickle.load(open('exp3_case2_n_power_PET.pkl', 'rb'))"
   ]
  },
  {
   "cell_type": "code",
   "execution_count": 190,
   "id": "proved-behavior",
   "metadata": {},
   "outputs": [],
   "source": [
    "# Compute upper and lower confidence bound on power estimate\n",
    "std_error = power_PET*(1-power_PET)\n",
    "q = ss.norm.ppf(q=1-level/2, loc=0, scale=1)\n",
    "ucb = power_PET+std_error*q/math.sqrt(N_rep)\n",
    "lcb = power_PET-std_error*q/math.sqrt(N_rep)"
   ]
  },
  {
   "cell_type": "code",
   "execution_count": 191,
   "id": "decreased-butter",
   "metadata": {},
   "outputs": [
    {
     "data": {
      "image/png": "[encoded data removed]",
      "text/plain": [
       "<Figure size 432x288 with 1 Axes>"
      ]
     },
     "metadata": {},
     "output_type": "display_data"
    }
   ],
   "source": [
    "# Plot power as a function of phase transition parameter\n",
    "range_rho = c*(range_n**1.5)/4/K**2*(a-b)**2/(a+b)**2*(a-b+(5*a**2+6*a*b+5*b**2)**0.5)**2\n",
    "fig, ax = plt.subplots()\n",
    "ax.plot(range_rho,power_PET)\n",
    "ax.fill_between(range_rho, lcb, ucb, color='b', alpha=.1)\n",
    "ax.set_xlabel('PET signal strength')\n",
    "ax.set_ylabel('power of PET')\n",
    "# Save figure to file\n",
    "plt.savefig('exp3_case2_n_powerplot_rho.pdf', format='pdf')"
   ]
  },
  {
   "cell_type": "markdown",
   "id": "timely-century",
   "metadata": {},
   "source": [
    "# Case 2: phase transition in the rank-1 case by varying c"
   ]
  },
  {
   "cell_type": "code",
   "execution_count": null,
   "id": "focused-franklin",
   "metadata": {},
   "outputs": [],
   "source": [
    "# Test parameters\n",
    "N_rep = 500\n",
    "level = 0.05"
   ]
  },
  {
   "cell_type": "code",
   "execution_count": null,
   "id": "developing-biotechnology",
   "metadata": {},
   "outputs": [],
   "source": [
    "# Data generation parameters\n",
    "K = 2\n",
    "n = 300\n",
    "exact = True\n",
    "b = 1\n",
    "a = b+1/n**0.25\n",
    "eta = np.concatenate((np.repeat(a,int(K/2)),np.repeat(b,int(K/2)))).reshape((K,1))\n",
    "eta = eta/norm(eta)"
   ]
  },
  {
   "cell_type": "code",
   "execution_count": null,
   "id": "incorrect-economy",
   "metadata": {},
   "outputs": [],
   "source": [
    "# Initialize error dataframes\n",
    "range_c = np.arange(0.01,0.5,0.01)\n",
    "power_PET = np.zeros(len(range_c))"
   ]
  },
  {
   "cell_type": "code",
   "execution_count": null,
   "id": "preliminary-tobacco",
   "metadata": {},
   "outputs": [],
   "source": [
    "# Run simulations\n",
    "np.random.seed(seed=13)\n",
    "for k in tqdm(range(N_rep)):\n",
    "    time.sleep(0.01)\n",
    "    for i in range(len(range_c)):\n",
    "        c = range_c[i]\n",
    "        A = dg.sample_alt_adj_matrix_rank1(n, K, eta, c, exact)\n",
    "        power_PET[i] += st.PET_test(A, level)['reject']\n",
    "power_PET = power_PET/N_rep"
   ]
  },
  {
   "cell_type": "code",
   "execution_count": null,
   "id": "modular-vintage",
   "metadata": {},
   "outputs": [],
   "source": [
    "# Save to pickle\n",
    "pickle.dump(power_PET, open('exp3_case2_c_power_PET.pkl', 'wb'))"
   ]
  },
  {
   "cell_type": "code",
   "execution_count": null,
   "id": "superb-uganda",
   "metadata": {},
   "outputs": [],
   "source": [
    "# Read pickles\n",
    "power_PET = pickle.load(open('exp3_case2_c_power_PET.pkl', 'rb'))"
   ]
  },
  {
   "cell_type": "code",
   "execution_count": null,
   "id": "upset-twenty",
   "metadata": {},
   "outputs": [],
   "source": [
    "# Compute upper and lower confidence bound on power estimate\n",
    "std_error = power_PET*(1-power_PET)\n",
    "q = ss.norm.ppf(q=1-level/2, loc=0, scale=1)\n",
    "ucb = power_PET+std_error*q/math.sqrt(N_rep)\n",
    "lcb = power_PET-std_error*q/math.sqrt(N_rep)"
   ]
  },
  {
   "cell_type": "code",
   "execution_count": null,
   "id": "tropical-dependence",
   "metadata": {},
   "outputs": [],
   "source": [
    "# Plot power as a function of phase transition parameter\n",
    "range_rho = range_c*(n**1.5)/4/K**2*(a-b)**2/(a+b)**2*(a-b+(5*a**2+6*a*b+5*b**2)**0.5)**2\n",
    "fig, ax = plt.subplots()\n",
    "ax.plot(range_rho,power_PET)\n",
    "ax.fill_between(range_rho, lcb, ucb, color='b', alpha=.1)\n",
    "ax.set_xlabel('PET signal strength')\n",
    "ax.set_ylabel('power of PET')\n",
    "# Save figure to file\n",
    "plt.savefig('exp3_case2_c_powerplot_rho.pdf', format='pdf')"
   ]
  },
  {
   "cell_type": "code",
   "execution_count": null,
   "id": "accessible-shooting",
   "metadata": {},
   "outputs": [],
   "source": []
  },
  {
   "cell_type": "code",
   "execution_count": null,
   "id": "peaceful-bradley",
   "metadata": {},
   "outputs": [],
   "source": []
  }
 ],
 "metadata": {
  "kernelspec": {
   "display_name": "Python 3",
   "language": "python",
   "name": "python3"
  },
  "language_info": {
   "codemirror_mode": {
    "name": "ipython",
    "version": 3
   },
   "file_extension": ".py",
   "mimetype": "text/x-python",
   "name": "python",
   "nbconvert_exporter": "python",
   "pygments_lexer": "ipython3",
   "version": "3.7.9"
  }
 },
 "nbformat": 4,
 "nbformat_minor": 5
}
