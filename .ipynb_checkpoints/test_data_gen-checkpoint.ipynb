{
 "cells": [
  {
   "cell_type": "code",
   "execution_count": 1,
   "metadata": {},
   "outputs": [],
   "source": [
    "import numpy as np\n",
    "from numpy import transpose, dot\n",
    "from numpy.linalg import multi_dot\n",
    "import data_gen as dg"
   ]
  },
  {
   "cell_type": "code",
   "execution_count": 2,
   "metadata": {},
   "outputs": [],
   "source": [
    "def sample_null_adj_mat(n, alpha):\n",
    "    '''\n",
    "    Function used to sample an adjacency matrix under the null distribution.\n",
    "    Each off-diagonal entry of the matrix is sampled from a Bernoulli(alpha)\n",
    "    distribution, and the diagonal enries are all set to 0 (no self-edge).\n",
    "    \n",
    "    Args:\n",
    "      n: (int) number of nodes\n",
    "      alpha: (float) edge probability\n",
    "      \n",
    "    Returns:\n",
    "      An nxn adjacency matrix\n",
    "    '''\n",
    "    # Edge presence\n",
    "    bern_vars = np.random.binomial(n=1, p=alpha, size=int(n*(n-1)/2))\n",
    "    # Create upper triangular adjacency matrix\n",
    "    tri = np.zeros((n,n))\n",
    "    tri[np.triu_indices(n,1)] = bern_vars\n",
    "    # Symmetrize adjacency matrix\n",
    "    adj = tri+np.transpose(tri)\n",
    "    return(adj)"
   ]
  },
  {
   "cell_type": "code",
   "execution_count": 3,
   "metadata": {},
   "outputs": [
    {
     "data": {
      "text/plain": [
       "array([[0., 0., 0., 0., 1., 1., 0., 1., 0., 0.],\n",
       "       [0., 0., 0., 0., 1., 1., 0., 1., 1., 0.],\n",
       "       [0., 0., 0., 0., 1., 0., 0., 0., 0., 0.],\n",
       "       [0., 0., 0., 0., 0., 0., 0., 1., 0., 1.],\n",
       "       [1., 1., 1., 0., 0., 0., 0., 0., 0., 1.],\n",
       "       [1., 1., 0., 0., 0., 0., 0., 0., 0., 1.],\n",
       "       [0., 0., 0., 0., 0., 0., 0., 0., 0., 0.],\n",
       "       [1., 1., 0., 1., 0., 0., 0., 0., 0., 0.],\n",
       "       [0., 1., 0., 0., 0., 0., 0., 0., 0., 0.],\n",
       "       [0., 0., 0., 1., 1., 1., 0., 0., 0., 0.]])"
      ]
     },
     "execution_count": 3,
     "metadata": {},
     "output_type": "execute_result"
    }
   ],
   "source": [
    "# Test sample_null_adj_mat\n",
    "n = 10\n",
    "alpha = 0.3\n",
    "dg.sample_null_adj_mat(n, alpha)\n",
    "#sample_null_adj_mat(n, alpha)"
   ]
  },
  {
   "cell_type": "code",
   "execution_count": 4,
   "metadata": {},
   "outputs": [],
   "source": [
    "def sample_alt_adj_matrix_sym(n, K, a, b, exact):\n",
    "    '''\n",
    "    Function used to sample a symmetric adjacency matrix under the alternative\n",
    "    hypothesis with K communities. The matrix P is defined with all off-diagonal\n",
    "    entries equal to b and diagonal entries equal to a. Membership vectors are \n",
    "    sampled from a Dirichlet distribution with equal probability for each class.\n",
    "    This allows to create the ideal matrix Omega, which is used to sample A with\n",
    "    A[i,j]~Bernoulli(Omega[i,j]) for all off-diagonal elements, and A[i,i]=0 for \n",
    "    all diagonal elements (no self-edge).\n",
    "    \n",
    "    Args:\n",
    "      n: (int) number of nodes\n",
    "      K: (int) number of communities\n",
    "      a: (float) edge probability within a community\n",
    "      b: (float) edge probability between distinct communities\n",
    "      exact: (Boolean) if True, then there are exactly n/K pure nodes per community\n",
    "    Returns:\n",
    "      An nxn adjacency matrix  \n",
    "    '''\n",
    "    # Construct P\n",
    "    P = (a-b)*np.identity(K)+b*np.ones(K)\n",
    "    # Sample membership vectors\n",
    "    if exact:\n",
    "        coms = np.random.permutation(np.array([np.repeat(i,int(n/K)) for i in range(K)]).flatten())\n",
    "        pi_mat = np.array([np.eye(1,K,i)[0] for i in coms])\n",
    "    else:\n",
    "        pi_mat = np.random.multinomial(1, [1/K]*K, size=n)\n",
    "    # Construct Omega\n",
    "    Omega = multi_dot([pi_mat, P, transpose(pi_mat)])\n",
    "    # Sample adjacency matrix\n",
    "    bern_vars = np.random.binomial(n=1, p=Omega)\n",
    "    tri = np.triu(bern_vars, k=1)\n",
    "    adj = tri+transpose(tri)\n",
    "    return(adj)"
   ]
  },
  {
   "cell_type": "code",
   "execution_count": 5,
   "metadata": {},
   "outputs": [
    {
     "data": {
      "text/plain": [
       "array([[0, 0, 0, 0, 0, 1, 0, 0, 0, 1],\n",
       "       [0, 0, 1, 0, 0, 0, 0, 0, 1, 0],\n",
       "       [0, 1, 0, 0, 1, 1, 0, 0, 0, 1],\n",
       "       [0, 0, 0, 0, 0, 0, 0, 1, 0, 1],\n",
       "       [0, 0, 1, 0, 0, 0, 1, 0, 0, 0],\n",
       "       [1, 0, 1, 0, 0, 0, 0, 1, 0, 1],\n",
       "       [0, 0, 0, 0, 1, 0, 0, 0, 1, 0],\n",
       "       [0, 0, 0, 1, 0, 1, 0, 0, 0, 1],\n",
       "       [0, 1, 0, 0, 0, 0, 1, 0, 0, 0],\n",
       "       [1, 0, 1, 1, 0, 1, 0, 1, 0, 0]])"
      ]
     },
     "execution_count": 5,
     "metadata": {},
     "output_type": "execute_result"
    }
   ],
   "source": [
    "# Test sample_alt_adj_matrix_sym\n",
    "n = 10\n",
    "K = 2\n",
    "a = 0.8\n",
    "b = 0.2\n",
    "exact = True\n",
    "dg.sample_alt_adj_matrix_sym(n, K, a, b, exact)\n",
    "#sample_alt_adj_matrix_sym(n, K, a, b, exact)"
   ]
  },
  {
   "cell_type": "code",
   "execution_count": 18,
   "metadata": {},
   "outputs": [],
   "source": [
    "def sample_alt_adj_matrix_sym2(n, K, a, b, c, exact):\n",
    "    '''\n",
    "    Function used to sample a symmetric adjacency matrix under the alternative\n",
    "    hypothesis with K communities. The matrix P is defined with the block diagonal\n",
    "    structure of section 3.3 of Jin et al (GC test). Membership vectors are \n",
    "    sampled from a Dirichlet distribution with equal probability for each class.\n",
    "    This allows to create the ideal matrix Omega, which is used to sample A with\n",
    "    A[i,j]~Bernoulli(Omega[i,j]) for all off-diagonal elements, and A[i,i]=0 for \n",
    "    all diagonal elements (no self-edge).\n",
    "    \n",
    "    Args:\n",
    "      n: (int) number of nodes\n",
    "      K: (int) number of communities\n",
    "      a: (float) edge probability within a community\n",
    "      b: (float) edge probability between first group of communities\n",
    "      c: (float) edge probability between second group of communities\n",
    "      exact: (Boolean) if True, then there are exactly n/K pure nodes per community\n",
    "    Returns:\n",
    "      An nxn adjacency matrix  \n",
    "    '''\n",
    "    # Construct P\n",
    "    B1 = (a-b)*np.identity(int(K/2))+b*np.ones(int(K/2))\n",
    "    B2 = c*np.ones((int(K/2),int(K/2)))\n",
    "    P = np.block([[B1,B2],[B2,B1]])\n",
    "    # Sample membership vectors\n",
    "    if exact:\n",
    "        coms = np.random.permutation(np.array([np.repeat(i,int(n/K)) for i in range(K)]).flatten())\n",
    "        pi_mat = np.array([np.eye(1,K,i)[0] for i in coms])\n",
    "    else:\n",
    "        pi_mat = np.random.multinomial(1, [1/K]*K, size=n)\n",
    "    # Construct Omega\n",
    "    Omega = multi_dot([pi_mat, P, transpose(pi_mat)])\n",
    "    # Sample adjacency matrix\n",
    "    bern_vars = np.random.binomial(n=1, p=Omega)\n",
    "    tri = np.triu(bern_vars, k=1)\n",
    "    adj = tri+transpose(tri)\n",
    "    return(adj)"
   ]
  },
  {
   "cell_type": "code",
   "execution_count": 20,
   "metadata": {},
   "outputs": [
    {
     "data": {
      "text/plain": [
       "array([[0, 0, 1, 0, 0, 1, 1, 1],\n",
       "       [0, 0, 0, 0, 1, 1, 0, 0],\n",
       "       [1, 0, 0, 0, 1, 1, 0, 0],\n",
       "       [0, 0, 0, 0, 1, 0, 0, 1],\n",
       "       [0, 1, 1, 1, 0, 0, 0, 0],\n",
       "       [1, 1, 1, 0, 0, 0, 0, 1],\n",
       "       [1, 0, 0, 0, 0, 0, 0, 0],\n",
       "       [1, 0, 0, 1, 0, 1, 0, 0]])"
      ]
     },
     "execution_count": 20,
     "metadata": {},
     "output_type": "execute_result"
    }
   ],
   "source": [
    "n = 10\n",
    "K = 4\n",
    "a = 0.8\n",
    "b = 0.4\n",
    "c = 0.1\n",
    "exact = True\n",
    "dg.sample_alt_adj_matrix_sym2(n, K, a, b, c, exact)\n",
    "#sample_alt_adj_matrix_sym2(n, K, a, b, c, exact)"
   ]
  },
  {
   "cell_type": "code",
   "execution_count": 127,
   "metadata": {},
   "outputs": [],
   "source": [
    "def sample_alt_adj_matrix_asym(n, K, a, b):\n",
    "    '''\n",
    "    Function used to sample a symmetric adjacency matrix under the alternative\n",
    "    hypothesis with K communities. The matrix P is defined with all off-diagonal\n",
    "    entries equal to b and diagonal entries equal to a. Membership vectors are \n",
    "    sampled from a Dirichlet distribution with equal probability for each class.\n",
    "    This allows to create the ideal matrix Omega, which is used to sample A with\n",
    "    A[i,j]~Bernoulli(Omega[i,j]) for all off-diagonal elements, and A[i,i]=0 for \n",
    "    all diagonal elements (no self-edge).\n",
    "    \n",
    "    Args:\n",
    "      n: (int) number of nodes\n",
    "      K: (int) number of communities\n",
    "      a: (float) edge probability within a community\n",
    "      b: (float) edge probability between distinct communities\n",
    "      \n",
    "    Returns:\n",
    "      An nxn adjacency matrix  \n",
    "    '''\n",
    "    # Construct P\n",
    "    e = min(1-b,b)/6\n",
    "    unif_vars = np.random.uniform(low=b-e, high=b+e, size=int(K*(K-1)/2))\n",
    "    tri = np.zeros((K,K))\n",
    "    tri[np.triu_indices(K,1)] = unif_vars\n",
    "    P = tri+transpose(tri)+a*np.identity(K)\n",
    "    # Sample membership vectors\n",
    "    pi_mat = np.random.dirichlet(alpha = np.ones(K), size = n)\n",
    "    # Construct Omega\n",
    "    Omega = multi_dot([pi_mat, P, transpose(pi_mat)])\n",
    "    # Sample adjacency matrix\n",
    "    bern_vars = np.random.binomial(n=1, p=Omega)\n",
    "    tri = np.triu(bern_vars, k=1)\n",
    "    adj = tri+transpose(tri)\n",
    "    return(adj)"
   ]
  },
  {
   "cell_type": "code",
   "execution_count": 133,
   "metadata": {},
   "outputs": [
    {
     "data": {
      "text/plain": [
       "array([[0, 1, 1, 1, 0, 0, 1, 0, 1, 1],\n",
       "       [1, 0, 0, 0, 1, 0, 1, 0, 1, 0],\n",
       "       [1, 0, 0, 0, 1, 1, 1, 1, 0, 0],\n",
       "       [1, 0, 0, 0, 1, 0, 1, 1, 1, 0],\n",
       "       [0, 1, 1, 1, 0, 1, 1, 0, 1, 1],\n",
       "       [0, 0, 1, 0, 1, 0, 0, 1, 1, 1],\n",
       "       [1, 1, 1, 1, 1, 0, 0, 1, 1, 1],\n",
       "       [0, 0, 1, 1, 0, 1, 1, 0, 1, 1],\n",
       "       [1, 1, 0, 1, 1, 1, 1, 1, 0, 1],\n",
       "       [1, 0, 0, 0, 1, 1, 1, 1, 1, 0]])"
      ]
     },
     "execution_count": 133,
     "metadata": {},
     "output_type": "execute_result"
    }
   ],
   "source": [
    "# Test sample_alt_adj_matrix_asym\n",
    "n = 10\n",
    "K = 2\n",
    "a = 0.8\n",
    "b = 0.2\n",
    "dg.sample_alt_adj_matrix_asym(n, K, a, b)\n",
    "#sample_alt_adj_matrix_asym(n, K, a, b)"
   ]
  },
  {
   "cell_type": "code",
   "execution_count": null,
   "metadata": {},
   "outputs": [],
   "source": []
  },
  {
   "cell_type": "code",
   "execution_count": null,
   "metadata": {},
   "outputs": [],
   "source": []
  }
 ],
 "metadata": {
  "kernelspec": {
   "display_name": "Python 3",
   "language": "python",
   "name": "python3"
  },
  "language_info": {
   "codemirror_mode": {
    "name": "ipython",
    "version": 3
   },
   "file_extension": ".py",
   "mimetype": "text/x-python",
   "name": "python",
   "nbconvert_exporter": "python",
   "pygments_lexer": "ipython3",
   "version": "3.7.4"
  }
 },
 "nbformat": 4,
 "nbformat_minor": 2
}
